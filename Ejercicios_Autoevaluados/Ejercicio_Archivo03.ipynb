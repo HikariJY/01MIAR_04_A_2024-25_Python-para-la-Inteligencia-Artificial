{
 "cells": [
  {
   "cell_type": "markdown",
   "id": "34213e65-ed33-4b87-9d14-caafac50cd30",
   "metadata": {},
   "source": [
    "# Ejercicios del archivo 01MIAR_03_Python101_Control"
   ]
  },
  {
   "cell_type": "markdown",
   "id": "6515fb4c-920e-492b-b4e5-da6c12ea49bc",
   "metadata": {},
   "source": [
    "1. Escribe un programa que calcule la suma de todos los elementos de una *lista* dada. La lista sólo puede contener elementos numéricos."
   ]
  },
  {
   "cell_type": "code",
   "execution_count": 4,
   "id": "c3b621f3-2f10-4196-b712-5c56ecbb9fbe",
   "metadata": {},
   "outputs": [
    {
     "name": "stdout",
     "output_type": "stream",
     "text": [
      "504\n"
     ]
    }
   ],
   "source": [
    "L = [23, 45, 11, 78, 32, 67, 89, 55, 14, 90]\n",
    "\n",
    "print(sum(L))"
   ]
  },
  {
   "cell_type": "markdown",
   "id": "4fde3124-9f74-45d7-a3ce-e456e2ec706d",
   "metadata": {},
   "source": [
    "2. Dada una lista con elementos duplicados, escribir un programa que muestre una nueva lista con el mismo contenido que la primera pero sin elementos duplicados. Para este ejercicio, no puedes hacer uso de objetos de tipo 'Set'. "
   ]
  },
  {
   "cell_type": "code",
   "execution_count": 17,
   "id": "3115b802-3b4f-49ff-8f65-3a50255b4dbc",
   "metadata": {},
   "outputs": [
    {
     "name": "stdout",
     "output_type": "stream",
     "text": [
      "[1, 3, 5, 2, 4]\n"
     ]
    }
   ],
   "source": [
    "L = [1, 3, 5, 2, 4, 1, 2, 3]\n",
    "NL = []\n",
    "[NL.append(x) for x in L if x not in NL]\n",
    "print(NL)"
   ]
  },
  {
   "cell_type": "markdown",
   "id": "dd76ff01-6740-4ef0-b4c5-11b4053102db",
   "metadata": {},
   "source": [
    "3. Escribe un programa que construya un diccionario que contenga un número (entre 1 y *n*) de elementos de esta forma: (x, x*x). Ejemplo: para n = 5, el diccionario resultante sería {1: 1, 2: 4, 3: 9, 4: 16, 5: 25}"
   ]
  },
  {
   "cell_type": "code",
   "execution_count": 22,
   "id": "76965472-0ac3-4eee-862e-bec7733de3fe",
   "metadata": {},
   "outputs": [
    {
     "name": "stdout",
     "output_type": "stream",
     "text": [
      "{1: 1, 2: 4, 3: 9, 4: 16, 5: 25}\n"
     ]
    }
   ],
   "source": [
    "n = 5\n",
    "Dic = {}\n",
    "for i in range(1,n+1):\n",
    "    Dic[i] = i*i\n",
    "print(Dic)"
   ]
  },
  {
   "cell_type": "markdown",
   "id": "909060d7-d740-46d0-b998-2c69971966d5",
   "metadata": {},
   "source": [
    "4. Escribe un programa que, dada una lista de palabras, compruebe si alguna empieza por 'a' y tiene más de 9 caracteres. Si dicha palabra existe, el programa deberá terminar en el momento exacto de encontrarla. El programa también debe mostrar un mensaje apropiado por pantalla que indique el éxito o el fracaso de la búsqueda. En caso de éxito, también se mostrará por pantalla la palabra encontrada."
   ]
  },
  {
   "cell_type": "code",
   "execution_count": 45,
   "id": "d56dcf78-6baf-49cd-83fc-fa49575c3508",
   "metadata": {},
   "outputs": [
    {
     "name": "stdout",
     "output_type": "stream",
     "text": [
      "NO cumple con las condiciones la palabra banana.\n",
      "NO cumple con las condiciones la palabra aeropuerto.\n",
      "NO cumple con las condiciones la palabra avión.\n",
      "SI cumple con las condiciones la palabra algoritmo.\n"
     ]
    }
   ],
   "source": [
    "palabras = ['banana', 'aeropuerto', 'avión', 'algoritmo', 'gato']\n",
    "empieza = 'a'\n",
    "num = 9\n",
    "\n",
    "for palabra in palabras:\n",
    "    if len(palabra) == num and palabra[0] == empieza:\n",
    "        print(f'SI cumple con las condiciones la palabra {palabra}.')\n",
    "        break\n",
    "    else:\n",
    "        print(f'NO cumple con las condiciones la palabra {palabra}.')"
   ]
  },
  {
   "cell_type": "markdown",
   "id": "bc931e8d-a6f5-48b8-b83e-101cef381365",
   "metadata": {},
   "source": [
    "5. Dada una lista *L* de números positivos, escribir un programa que muestre otra lista (ordenada) que contenga todo índice *i* que cumpla la siguiente condición: *L[i]* es múltiplo de 3. Por ejemplo, dada la lista *L* = [3,5,13,12,1,9] el programa mostrará la lista [0,3,5] dado que *L[0], L[3] y L[5]* son, respectivamente, 3, 12 y 9, que son los únicos múltiplos de 3 que hay en *L*."
   ]
  },
  {
   "cell_type": "code",
   "execution_count": 48,
   "id": "3ef0e4b1-e33c-44e6-b0a6-57d337d9dd6a",
   "metadata": {},
   "outputs": [
    {
     "name": "stdout",
     "output_type": "stream",
     "text": [
      "[0, 3, 5]\n"
     ]
    }
   ],
   "source": [
    "L = [3, 5, 13, 12, 1, 9]\n",
    "\n",
    "print([L.index(x) for x in L if x%3 == 0])"
   ]
  },
  {
   "cell_type": "markdown",
   "id": "7830ac1f-1362-4261-adc9-2269ec04579a",
   "metadata": {},
   "source": [
    "6. Dado un diccionario cuyos elementos son pares de tipo string y numérico (es decir, las claves son de tipo 'str' y los valores son de tipo 'int' o 'float'), escribe un programa que muestre por pantalla la clave cuyo valor asociado representa el valor númerico más alto de todo el diccionario. Por ejemplo, para el diccionario {'a': 4.3, 'b': 1, 'c': 7.8, 'd': -5} la respuesta sería 'c', dado que 7.8 es el valor más alto de los números 4.3, 1, 7.8 y -5."
   ]
  },
  {
   "cell_type": "code",
   "execution_count": 97,
   "id": "9a91e525-5aee-4562-bcff-f1d6dadc2d04",
   "metadata": {},
   "outputs": [
    {
     "name": "stdout",
     "output_type": "stream",
     "text": [
      "La clave del numero mayor (7.8) es c.\n"
     ]
    }
   ],
   "source": [
    "dicc = {'a': 4.3, 'b': 1, 'c': 7.8, 'd': -5}\n",
    "maximo = float('-inf')\n",
    "resultado = None\n",
    "\n",
    "if len(dicc) > 0:\n",
    "    for k, i in dicc.items():\n",
    "        if i > maximo:\n",
    "            maximo = i\n",
    "            resultado = k\n",
    "    print(f'La clave del numero mayor ({maximo}) es {resultado}.')\n",
    "else:\n",
    "    print('El diccionario esta vacio.')"
   ]
  },
  {
   "cell_type": "code",
   "execution_count": 98,
   "id": "d50dcd75-5d1b-4169-a1b2-7da2566a9ef1",
   "metadata": {},
   "outputs": [
    {
     "name": "stdout",
     "output_type": "stream",
     "text": [
      "La clave del número mayor (7.8) es c.\n"
     ]
    }
   ],
   "source": [
    "dicc = {'a': 4.3, 'b': 1, 'c': 7.8, 'd': -5}\n",
    "\n",
    "if dicc:\n",
    "    maximo = max(dicc, key=dic.get)\n",
    "    print(f\"La clave del número mayor ({dicc[maximo]}) es {maximo}.\")\n",
    "else:\n",
    "    print('El diccionario está vacío.')\n"
   ]
  },
  {
   "cell_type": "markdown",
   "id": "79675fcc-0489-4030-a909-8b176c249b5a",
   "metadata": {},
   "source": [
    "7. Dada la lista *a* = [2, 4, 6, 8] y la lista *b* = [7, 11, 15, 22], escribe un programa que itere las listas *a* y *b* y multiplique cada elemento de *a* que sea mayor que 5 por cada elemento de *b* que sea menor que 14. El programa debe mostrar los resultados por pantalla."
   ]
  },
  {
   "cell_type": "code",
   "execution_count": 83,
   "id": "a8975939-770a-4b30-a7ec-a566662d9dd6",
   "metadata": {},
   "outputs": [
    {
     "name": "stdout",
     "output_type": "stream",
     "text": [
      "[42, 66, 56, 88]\n"
     ]
    }
   ],
   "source": [
    "a = [2, 4, 6, 8]\n",
    "b = [7, 11, 15, 22]\n",
    "\n",
    "print([A * B for A in a for B in b if A > 5 if B < 14])"
   ]
  },
  {
   "cell_type": "markdown",
   "id": "4a73825c-4123-483a-9a5f-001857d0eb73",
   "metadata": {},
   "source": [
    "8. Escribir un programa que pida un valor numérico X al usuario. Para ello podéis hacer uso de la función predefinida 'input'. El programa deberá mostrar por pantalla el resultado de la división 10/X. En caso de que el usuario introduzca valores no apropiados, el programa deberá gestionar correctamente las excepciones, por ejemplo, mostrando mensajes informativos por pantalla."
   ]
  },
  {
   "cell_type": "code",
   "execution_count": 96,
   "id": "a70a194f-ba88-4124-be29-b7976bf14e4f",
   "metadata": {},
   "outputs": [
    {
     "name": "stdin",
     "output_type": "stream",
     "text": [
      "Ingresa un valor para X:  0\n"
     ]
    },
    {
     "name": "stdout",
     "output_type": "stream",
     "text": [
      "Error: división por cero\n"
     ]
    }
   ],
   "source": [
    "try:\n",
    "    x = input('Ingresa un valor para X: ')\n",
    "    print(f\"El resultado de 10/{x} es: {10/float(x)}\")\n",
    "except ValueError:\n",
    "    print(f\"El valor '{x}' no es numérico\")\n",
    "except ZeroDivisionError:\n",
    "    print(\"Error: división por cero\")"
   ]
  },
  {
   "cell_type": "markdown",
   "id": "546c065c-dd78-4d02-9f6a-df72e6005e8d",
   "metadata": {},
   "source": [
    "9. Escribir un programa que cree un *diccionario* cualquiera. Posteriormente, el programa pedirá al usuario (a través de la función predefinida 'input') que introduzca una clave del diccionario. Si la clave introducida es correcta (es decir, existe en el diccionario), el programa mostrará por pantalla el valor asociado a dicha clave. En caso de que la clave no exista, el programa gestionará de manera apropiada el error, por ejemplo, mostrando un mensaje informativo al usuario."
   ]
  },
  {
   "cell_type": "code",
   "execution_count": 100,
   "id": "93e6adbd-800f-4b6e-8427-97e9658e1def",
   "metadata": {},
   "outputs": [
    {
     "name": "stdin",
     "output_type": "stream",
     "text": [
      "Ingrese la clave a buscar : SO\n"
     ]
    },
    {
     "name": "stdout",
     "output_type": "stream",
     "text": [
      "No existe la clave SO en el diccionario.\n"
     ]
    }
   ],
   "source": [
    "dicc = {'Programación': 9.5, \"Inteligencia artificial\": 7.6, \"Redes\": 5.2, \"Sistemas operativos\": 6.4}\n",
    "try:\n",
    "    clave = input('Ingrese la clave a buscar :')\n",
    "    print(f'El valor asociado a la clave {clave} es {dicc[clave]}.')\n",
    "except KeyError:\n",
    "    print(f'No existe la clave {clave} en el diccionario.')"
   ]
  },
  {
   "cell_type": "markdown",
   "id": "af9a2901-2869-4baa-9f43-01599ee33dd0",
   "metadata": {},
   "source": [
    "10. Escribe una *list comprehension* que construya una lista con los números *enteros* positivos de una lista de números dada. La lista original puede incluir números de tipo *float*, los cuales deben ser descartados."
   ]
  },
  {
   "cell_type": "code",
   "execution_count": 104,
   "id": "80d99829-d45b-4957-91e2-ac2f9cc5204f",
   "metadata": {},
   "outputs": [
    {
     "name": "stdout",
     "output_type": "stream",
     "text": [
      "[1, 4, 2, 8]\n"
     ]
    }
   ],
   "source": [
    "L = [1, 4, -3, -1.5, 6.5, 2, 8, 2.1]\n",
    "\n",
    "print([x for x in L if x > 0 and type(x) == int])"
   ]
  },
  {
   "cell_type": "markdown",
   "id": "f6a29c7f-529e-45aa-bb4e-b5535728598a",
   "metadata": {},
   "source": [
    "11. Escribe una *set comprehension* que, dada una palabra, construya un conjunto que contenga las vocales de dicha palabra."
   ]
  },
  {
   "cell_type": "code",
   "execution_count": 109,
   "id": "beb3c0a6-5bb0-4d1a-b333-3a0331152269",
   "metadata": {},
   "outputs": [
    {
     "name": "stdout",
     "output_type": "stream",
     "text": [
      "{'i', 'o', 'a'}\n"
     ]
    }
   ],
   "source": [
    "palabra = 'otorrinonaringologo'\n",
    "vocales = ('a', 'e', 'i', 'o', 'u')\n",
    "\n",
    "print({letra for letra in palabra if letra in vocales})"
   ]
  },
  {
   "cell_type": "markdown",
   "id": "19aadb59-c7dc-489c-9d83-3852d226feee",
   "metadata": {},
   "source": [
    "12. Escribe una *list comprehension* que construya una lista con todos los números del 0 al 50 que contengan el dígito 3. El resultado será: [3, 13, 23, 30, 31, 32, 33, 34, 35, 36, 37, 38, 39, 43]."
   ]
  },
  {
   "cell_type": "code",
   "execution_count": 112,
   "id": "3e68a581-8067-4234-a5cc-99546d124355",
   "metadata": {},
   "outputs": [
    {
     "name": "stdout",
     "output_type": "stream",
     "text": [
      "[3, 13, 23, 30, 31, 32, 33, 34, 35, 36, 37, 38, 39, 43]\n"
     ]
    }
   ],
   "source": [
    "minimo = 0\n",
    "maximo = 50\n",
    "contiene = 3\n",
    "\n",
    "print([numero for numero in range(minimo, maximo + 1) if str(contiene) in str(numero)])"
   ]
  },
  {
   "cell_type": "markdown",
   "id": "fc2929e0-a5e7-4bc7-b5d3-c6492398ce9b",
   "metadata": {},
   "source": [
    "13. Escribe una *dictionary comprehension* que construya un diccionario que incluya los tamaños de cada palabra en una frase dada. Ejemplo: el resultado para la frase \"Soy un ser humano\" será {'Soy': 3, 'un': 2, 'ser': 3, 'humano': 6}"
   ]
  },
  {
   "cell_type": "code",
   "execution_count": 114,
   "id": "d84090fa-aeb9-4519-956b-a570125c1af6",
   "metadata": {},
   "outputs": [
    {
     "name": "stdout",
     "output_type": "stream",
     "text": [
      "{'Soy': 3, 'un': 2, 'ser': 3, 'humano': 6}\n"
     ]
    }
   ],
   "source": [
    "frase = 'Soy un ser humano'\n",
    "\n",
    "print({key:len(key) for key in frase.split(' ')})"
   ]
  },
  {
   "cell_type": "markdown",
   "id": "91b144a9-fade-4b80-9eaf-efa41d9a1d80",
   "metadata": {},
   "source": [
    "14. Escribe una *list comprehension* que construya una lista que incluya todos los números del 1 al 10 en orden. La primera mitad se mostrarán en formato numérico; la segunda mitad en texto. Es decir, el resultado será: [1, 2, 3, 4, 5, 'seis', 'siete', 'ocho', 'nueve', 'diez']."
   ]
  },
  {
   "cell_type": "code",
   "execution_count": 116,
   "id": "c4764869-0978-4b58-8ea6-a87f4c46159f",
   "metadata": {},
   "outputs": [
    {
     "name": "stdout",
     "output_type": "stream",
     "text": [
      "[1, 2, 3, 4, 5, 'seis', 'siete', 'ocho', 'nueve', 'diez']\n"
     ]
    }
   ],
   "source": [
    "print([x for x in range(1, 6)]+['seis', 'siete', 'ocho', 'nueve', 'diez'])"
   ]
  },
  {
   "cell_type": "code",
   "execution_count": 117,
   "id": "3557ff8f-635f-4ba4-a707-c8c3a902cf19",
   "metadata": {},
   "outputs": [
    {
     "data": {
      "text/plain": [
       "[1, 2, 3, 4, 5, 'seis', 'siete', 'ocho', 'nueve', 'diez']"
      ]
     },
     "execution_count": 117,
     "metadata": {},
     "output_type": "execute_result"
    }
   ],
   "source": [
    "numero_a_palabra = {6 : \"seis\", 7 : \"siete\", 8 : \"ocho\", 9 : \"nueve\", 10 : \"diez\"}\n",
    "\n",
    "[numero if numero <= 5 else numero_a_palabra[numero] for numero in range(1,11)]"
   ]
  }
 ],
 "metadata": {
  "kernelspec": {
   "display_name": "Python 3 (ipykernel)",
   "language": "python",
   "name": "python3"
  },
  "language_info": {
   "codemirror_mode": {
    "name": "ipython",
    "version": 3
   },
   "file_extension": ".py",
   "mimetype": "text/x-python",
   "name": "python",
   "nbconvert_exporter": "python",
   "pygments_lexer": "ipython3",
   "version": "3.11.7"
  }
 },
 "nbformat": 4,
 "nbformat_minor": 5
}
