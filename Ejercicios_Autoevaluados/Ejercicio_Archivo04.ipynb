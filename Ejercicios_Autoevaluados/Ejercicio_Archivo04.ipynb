{
 "cells": [
  {
   "cell_type": "markdown",
   "id": "649e8380-4e02-4fec-868c-343c5596e5ef",
   "metadata": {},
   "source": [
    "# Ejercicios del archivo 01MIAR_03_Python101_Control"
   ]
  },
  {
   "cell_type": "code",
   "execution_count": null,
   "id": "c6a908dd-ebef-455f-8829-ec75297213bf",
   "metadata": {},
   "outputs": [],
   "source": []
  }
 ],
 "metadata": {
  "kernelspec": {
   "display_name": "Python 3 (ipykernel)",
   "language": "python",
   "name": "python3"
  },
  "language_info": {
   "codemirror_mode": {
    "name": "ipython",
    "version": 3
   },
   "file_extension": ".py",
   "mimetype": "text/x-python",
   "name": "python",
   "nbconvert_exporter": "python",
   "pygments_lexer": "ipython3",
   "version": "3.11.7"
  }
 },
 "nbformat": 4,
 "nbformat_minor": 5
}
