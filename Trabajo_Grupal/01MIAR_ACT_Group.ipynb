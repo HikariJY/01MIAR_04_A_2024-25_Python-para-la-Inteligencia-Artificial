{
 "cells": [
  {
   "cell_type": "markdown",
   "id": "a2eea98a-4a8d-47fd-9bbf-19fa4c134d1e",
   "metadata": {
    "tags": []
   },
   "source": [
    "## Actividad 01\n",
    "\n",
    "- Crear una lista con números que comiencen por 30 y que termine en 42 haciendo que el paso entre cada número consecutivo sea de 0.4. Sin usar Numpy."
   ]
  },
  {
   "cell_type": "code",
   "execution_count": 16,
   "id": "d85c47ce-eaff-4caa-856f-0c43eafe9e72",
   "metadata": {
    "tags": []
   },
   "outputs": [
    {
     "name": "stdout",
     "output_type": "stream",
     "text": [
      "[30.0, 30.4, 30.8, 31.2, 31.6, 32.0, 32.4, 32.8, 33.2, 33.6, 34.0, 34.4, 34.8, 35.2, 35.6, 36.0, 36.4, 36.8, 37.2, 37.6, 38.0, 38.4, 38.8, 39.2, 39.6, 40.0, 40.4, 40.8, 41.2, 41.6, 42.0]\n"
     ]
    }
   ],
   "source": [
    "my_lista = [x/10 for x in range(300,420+4,4)]\n",
    "\n",
    "print(my_lista)"
   ]
  },
  {
   "cell_type": "code",
   "execution_count": 58,
   "id": "0962058a-03c1-4366-acb9-cb8bacc2d6f9",
   "metadata": {},
   "outputs": [
    {
     "name": "stdout",
     "output_type": "stream",
     "text": [
      "[30.0, 32.0, 34.0, 36.0, 38.0, 40.0]\n"
     ]
    }
   ],
   "source": [
    "def incrementa_entre_dos_numeros(num_init, num_fin, intervalo):\n",
    "    cont = 1\n",
    "    while intervalo*cont < 1:\n",
    "        cont *=10\n",
    "    return [x/cont for x in range(int(num_init*cont),int(num_fin*cont),int(intervalo*cont))]\n",
    "\n",
    "print(incrementa_entre_dos_numeros(30, 42, 2))"
   ]
  },
  {
   "cell_type": "markdown",
   "id": "3ca8b783-fb88-4eb7-8379-3aae550d15b4",
   "metadata": {},
   "source": [
    "## Actividad 02\n",
    "\n",
    "- Dataset -> https://raw.githubusercontent.com/grammakov/USA-cities-and-states/master/us_cities_states_counties.csv\n",
    "- Header -> City|State short|State full|County|City alias\n",
    "- Obtener el número de ciudades que tiene el estado de Florida, usando dicho Dataset\n",
    "- Sin usar Pandas"
   ]
  },
  {
   "cell_type": "code",
   "execution_count": 17,
   "id": "e9fcaff1-f4c8-44b6-bf84-826558901a2f",
   "metadata": {
    "tags": []
   },
   "outputs": [],
   "source": [
    "import urllib\n",
    "\n",
    "url = \"https://raw.githubusercontent.com/grammakov/USA-cities-and-states/master/us_cities_states_counties.csv\"\n",
    "\n",
    "# Devuelve un fichero desde una url como cadena de caracteres\n",
    "def read_url(url):\n",
    "    return urllib.request.urlopen(url).read().decode('utf-8')\n",
    "\n",
    "# Descargar un fichero desde una url a una ruta local\n",
    "def download_file(url, dest):\n",
    "    urllib.request.urlretrieve(url, dest)\n",
    "    return"
   ]
  },
  {
   "cell_type": "code",
   "execution_count": 37,
   "id": "c798f607-c949-4483-8fd0-d75e55e0d175",
   "metadata": {},
   "outputs": [
    {
     "name": "stdout",
     "output_type": "stream",
     "text": [
      "El numero de ciudades que tiene el estado de Florida es: 537\n"
     ]
    }
   ],
   "source": [
    "import csv\n",
    "\n",
    "download_file(url, \"Anexos/Data.csv\")\n",
    "\n",
    "with open('Anexos\\Data.csv', newline='') as archivo_csv:\n",
    "    lector_csv = csv.reader(archivo_csv, delimiter='|')\n",
    "    ciudades = []\n",
    "    for fila in lector_csv:\n",
    "        ciudad, estado = fila[0], fila[2]\n",
    "        if estado == 'Florida':\n",
    "            ciudades.append(ciudad)\n",
    "ciudades = set(ciudades)\n",
    "\n",
    "print(f'El numero de ciudades que tiene el estado de Florida es: {len(ciudades)}')"
   ]
  },
  {
   "cell_type": "code",
   "execution_count": 53,
   "id": "76933e83-3165-43cb-ae62-a5d241742053",
   "metadata": {},
   "outputs": [
    {
     "name": "stdout",
     "output_type": "stream",
     "text": [
      "El numero de ciudades que tiene el estado de Florida es: 537\n"
     ]
    }
   ],
   "source": [
    "import csv\n",
    "import os \n",
    "\n",
    "working_dir = os.getcwd()\n",
    "file_name = \"Data.csv\"\n",
    "path_to_csv = os.path.join(working_dir, file_name)\n",
    "\n",
    "download_file(url, path_to_csv)\n",
    "\n",
    "with open(path_to_csv, newline='') as archivo_csv:\n",
    "  lector_csv = csv.reader(archivo_csv, delimiter='|')\n",
    "  ciudades = []\n",
    "  for fila in lector_csv:\n",
    "    ciudad, estado = fila[0], fila[2]\n",
    "    if estado == 'Florida':\n",
    "      ciudades.append(ciudad)\n",
    "ciudades = set(ciudades)\n",
    "\n",
    "print(f'El numero de ciudades que tiene el estado de Florida es: {len(ciudades)}')"
   ]
  },
  {
   "cell_type": "code",
   "execution_count": null,
   "id": "559b2714-9b19-4dab-8d90-14457598c2a7",
   "metadata": {},
   "outputs": [],
   "source": []
  }
 ],
 "metadata": {
  "kernelspec": {
   "display_name": "Python 3 (ipykernel)",
   "language": "python",
   "name": "python3"
  },
  "language_info": {
   "codemirror_mode": {
    "name": "ipython",
    "version": 3
   },
   "file_extension": ".py",
   "mimetype": "text/x-python",
   "name": "python",
   "nbconvert_exporter": "python",
   "pygments_lexer": "ipython3",
   "version": "3.11.7"
  }
 },
 "nbformat": 4,
 "nbformat_minor": 5
}
