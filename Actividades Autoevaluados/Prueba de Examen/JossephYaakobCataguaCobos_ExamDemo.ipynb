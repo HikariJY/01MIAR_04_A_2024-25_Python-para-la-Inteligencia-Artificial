{
 "cells": [
  {
   "cell_type": "markdown",
   "id": "bc4035f4-9073-47d9-906d-1a7ecdf4170b",
   "metadata": {},
   "source": [
    "# PYTHON PARA LA INTELIGENCIA ARTIFICIAL - EXAMEN DEMO\n",
    "Nombre: **Josseph Yaakob Catagua Cobos** <br>\n",
    "Enlace: [Github](https://github.com/HikariJY/01MIAR_04_A_2024-25_Python-para-la-Inteligencia-Artificial)"
   ]
  },
  {
   "cell_type": "code",
   "execution_count": 2,
   "id": "3f8111f2-6c95-4e79-bfc5-b71bc0e114eb",
   "metadata": {},
   "outputs": [],
   "source": [
    "# Your imports HERE !!!!\n",
    "import numpy as np\n",
    "import math"
   ]
  },
  {
   "cell_type": "markdown",
   "id": "1fa1d7e1-34b8-4e99-80de-7164b547401c",
   "metadata": {},
   "source": [
    "## 01\n",
    "- La serie de Fibonacci es una sucesión de números, en la cual cada número es la suma de los dos anteriores. Los dos primeros son siempre 0 y 1.\n",
    "  - $F_0 = 0$\n",
    "  - $F_1 = 1$\n",
    "  - $F_n = F_{n-1} + F_{n-2}$\n",
    "- Crear una serie de Fibonacci hasta un número *n* usando una función lambda."
   ]
  },
  {
   "cell_type": "code",
   "execution_count": null,
   "id": "467dba93-3716-4be2-8ad0-a739a952eeb9",
   "metadata": {},
   "outputs": [],
   "source": [
    "expected_fibo_serie = [0,1,1,2,3,5,8,13,21,34,55,89,144,233,377,610,987,1597]\n",
    "fibo_serie = fibonacci_lambda(len(expected_fibo_serie))  # This calls your lambda function fibonacci_lambda\n",
    "print(fibo_serie)\n",
    "assert(expected_fibo_serie == fibo_serie)  # This will fail if the serie is not correct"
   ]
  },
  {
   "cell_type": "code",
   "execution_count": 3,
   "id": "d698f612-6a3f-41d9-b587-9b088f95c533",
   "metadata": {},
   "outputs": [
    {
     "ename": "NameError",
     "evalue": "name 'n' is not defined",
     "output_type": "error",
     "traceback": [
      "\u001b[1;31m---------------------------------------------------------------------------\u001b[0m",
      "\u001b[1;31mNameError\u001b[0m                                 Traceback (most recent call last)",
      "Cell \u001b[1;32mIn[3], line 2\u001b[0m\n\u001b[0;32m      1\u001b[0m \u001b[38;5;66;03m# Your solution HERE !!!!\u001b[39;00m\n\u001b[1;32m----> 2\u001b[0m fibonacci_lambda \u001b[38;5;241m=\u001b[39m [\u001b[38;5;28;01mlambda\u001b[39;00m n: v1\u001b[38;5;241m+\u001b[39mv2 \u001b[38;5;28;01mfor\u001b[39;00m v1 \u001b[38;5;129;01min\u001b[39;00m \u001b[38;5;28mrange\u001b[39m(n) \u001b[38;5;28;01mfor\u001b[39;00m v2 \u001b[38;5;129;01min\u001b[39;00m \u001b[38;5;28mrange\u001b[39m(v1\u001b[38;5;241m+\u001b[39mn)]\n\u001b[0;32m      3\u001b[0m fibo_serie \u001b[38;5;241m=\u001b[39m fibonacci_lambda(\u001b[38;5;28mlen\u001b[39m(expected_fibo_serie))\n\u001b[0;32m      4\u001b[0m \u001b[38;5;28mprint\u001b[39m(fibo_serie)\n",
      "\u001b[1;31mNameError\u001b[0m: name 'n' is not defined"
     ]
    }
   ],
   "source": [
    "# Your solution HERE !!!!\n",
    "fibonacci_lambda = [lambda n: v1+v2 for v1 in range(n) for v2 in range(v1+n)]\n",
    "\n",
    "fibo_serie = fibonacci_lambda(len(expected_fibo_serie))\n",
    "print(fibo_serie)"
   ]
  },
  {
   "cell_type": "markdown",
   "id": "374d4370-95a9-4838-9c41-afe3e7369a7f",
   "metadata": {},
   "source": [
    "## 02\n",
    "- Crear una función que reciba un array de NumPy y devuelva otro en el cual estén marcados como True los elementos duplicados (a partir de la segunda ocurrencia), y como False los no repetidos o las primeras ocurrencias de los duplicados."
   ]
  },
  {
   "cell_type": "code",
   "execution_count": null,
   "id": "0c07cd7e-5b8a-446b-a574-3a862663f574",
   "metadata": {},
   "outputs": [],
   "source": [
    "numbers = np.array([4, 4, 4, 3, 8, 1, 9, 6, 1, 5, 9, 4, 0, 2])\n",
    "expected_output = np.array([False, True, True, False, False, False, False, False, True, False, True, True, False, False])\n",
    "output = find_duplicates(numbers)   # This calls your function find_duplicates\n",
    "assert(np.array_equal(expected_output, output))  # This will fail if the result is not as expected"
   ]
  },
  {
   "cell_type": "code",
   "execution_count": null,
   "id": "5d946390-fdce-41a4-bdf1-4b79deabfdef",
   "metadata": {},
   "outputs": [],
   "source": [
    "# Your solution HERE !!!!\n"
   ]
  },
  {
   "cell_type": "markdown",
   "id": "b1c8d067-6cc4-46a4-9f73-d44a28121e39",
   "metadata": {},
   "source": [
    "## 03\n",
    "- Resolución de dos sistemas de ecuaciones\n",
    "    - $ A : \\begin{cases} -9x +  4y = 20 \\\\ -7y + 16x = 80                         \\end{cases}$\n",
    "    \n",
    "    - $ B : \\begin{cases} x - 2y + 3z = 7 \\\\ 2x + y + z = 4 \\\\ -3x + 2y -2z = -10 \\end{cases}$\n",
    "- Verifica por código los resultados"
   ]
  },
  {
   "cell_type": "code",
   "execution_count": null,
   "id": "9b0b5d20-0ac2-46d5-bb26-3e30019121d3",
   "metadata": {},
   "outputs": [],
   "source": [
    "# Your solution HERE !!!!\n"
   ]
  },
  {
   "cell_type": "markdown",
   "id": "2e6fae27-eaf8-4698-9dba-a7dd586510e7",
   "metadata": {},
   "source": [
    "## 04\n",
    "- Crear un objeto Series con 10 elementos, que contenga más de un tipo básico, con índices de tipo string\n",
    "- Demuestra que los datos con índices posicionales son los mismos que los obtenidos con índices semánticos, seleccionando a través de slicing, al menos 4 elementos de la serie anterior"
   ]
  },
  {
   "cell_type": "code",
   "execution_count": null,
   "id": "075f60c6-bf1f-49e3-b184-9453a5a93ab5",
   "metadata": {},
   "outputs": [],
   "source": [
    "# Your solution HERE !!!!\n"
   ]
  },
  {
   "cell_type": "markdown",
   "id": "0d07ce47-dba9-4c72-a6c4-1ac538815efc",
   "metadata": {},
   "source": [
    "## 05\n",
    "- Crear un DataFrame de dimensiones 10x10, con números aleatorios en el rango `[0,20]`\n",
    "- Reemplazar todos aquellos elementos menores de 5 por NaN\n",
    "- Averiguar cuantos elementos tienen Nan por fila"
   ]
  },
  {
   "cell_type": "code",
   "execution_count": null,
   "id": "a2a077ce-c7b1-480c-a45b-398162d8c7ff",
   "metadata": {},
   "outputs": [],
   "source": [
    "# Your solution HERE !!!!\n"
   ]
  },
  {
   "cell_type": "markdown",
   "id": "225db2c0-8676-483f-8140-4d2edeca8250",
   "metadata": {},
   "source": [
    "## 06\n",
    "- Dada una lista de elementos, crea una función que devuelva un dataframe sin los elementos duplicados"
   ]
  },
  {
   "cell_type": "code",
   "execution_count": null,
   "id": "82156e4a-bf54-40d5-b5e0-e46195ae5859",
   "metadata": {},
   "outputs": [],
   "source": [
    "serie = ['a','b','c','a','c','a','g']\n",
    "expected_output = pd.DataFrame(['a','b','c','g'])\n",
    "output = remove_duplicates(serie)   # This will call tour function remove_duplicates\n",
    "print(output)\n",
    "assert(expected_output.equals(output))  # This will fail if the result is not as expected"
   ]
  },
  {
   "cell_type": "code",
   "execution_count": null,
   "id": "b9ae174b-8c34-4acb-9334-2f69d7bb89ea",
   "metadata": {},
   "outputs": [],
   "source": [
    "# Your solution HERE !!!!\n"
   ]
  },
  {
   "cell_type": "markdown",
   "id": "106d956c-e627-437a-832d-f9d0e26bab85",
   "metadata": {},
   "source": [
    "## 07 - 1pt\n",
    "- Escribir un generador `frange` que simule el comportamiento de la función `arange` de NumPy\n",
    "- Esta función cada vez que se invoque debe devolver valores espaciados uniformemente a partir de un valor inicial. Se debe proveer a dicha función un valor inicial para la secuencia de números y un valor para el step\n",
    "- Debe soportar valores númericos en coma flotante\n",
    "- La función potencialmente se puede llamar un número infinito de veces\n",
    "- Usando plain Python, sin ninguna librería"
   ]
  },
  {
   "cell_type": "code",
   "execution_count": null,
   "id": "49aa1d86-ceff-45f3-910b-a0e9b9b5f142",
   "metadata": {},
   "outputs": [],
   "source": [
    "import math\n",
    "\n",
    "init = 10.6\n",
    "step = 0.8\n",
    "g = frange(init, step)  # This calls your function frange\n",
    "\n",
    "iters = 10\n",
    "numbers = [next(g) for n in range(iters)]\n",
    "for i, n in enumerate(numbers):\n",
    "    assert(math.isclose(n, init + (step * i)))  # This will fail if the range is not properly created\\\n",
    "print(numbers)"
   ]
  },
  {
   "cell_type": "code",
   "execution_count": null,
   "id": "6ca2cb91-75a7-488e-9030-8b77d619d6d3",
   "metadata": {},
   "outputs": [],
   "source": [
    "# Your solution HERE !!!!\n"
   ]
  },
  {
   "cell_type": "markdown",
   "id": "3217cfd5-ad9d-40de-ba8f-6e66da9d8b0b",
   "metadata": {},
   "source": [
    "## 08\n",
    "- Crear una función que reciba una Serie de Pandas y devuelva esa misma serie, reemplazando los espacios en blanco por el carácter menos frecuente en dicha serie."
   ]
  },
  {
   "cell_type": "code",
   "execution_count": null,
   "id": "c3737583-4f24-411a-a98b-f433230f8837",
   "metadata": {},
   "outputs": [],
   "source": [
    "serie = pd.Series(list('bba cabc faabba aacbbfe'))\n",
    "expected_output = pd.Series(list('bbaecabcefaabbaeaacbbfe'))\n",
    "output = clean_whitespace_replace(serie)  # This calls your function clean_whitespace_replace\n",
    "assert(expected_output.equals(output))  # This will fail if result is not as expected"
   ]
  },
  {
   "cell_type": "code",
   "execution_count": null,
   "id": "7af47a41-112c-42c6-b13c-6dd0d3b3eda0",
   "metadata": {},
   "outputs": [],
   "source": [
    "# Your solution HERE !!!!\n"
   ]
  },
  {
   "cell_type": "markdown",
   "id": "42e72e2b-3753-43ce-aec0-1c8d5de8c772",
   "metadata": {},
   "source": [
    "# FIN"
   ]
  }
 ],
 "metadata": {
  "kernelspec": {
   "display_name": "Python 3 (ipykernel)",
   "language": "python",
   "name": "python3"
  },
  "language_info": {
   "codemirror_mode": {
    "name": "ipython",
    "version": 3
   },
   "file_extension": ".py",
   "mimetype": "text/x-python",
   "name": "python",
   "nbconvert_exporter": "python",
   "pygments_lexer": "ipython3",
   "version": "3.11.7"
  }
 },
 "nbformat": 4,
 "nbformat_minor": 5
}
