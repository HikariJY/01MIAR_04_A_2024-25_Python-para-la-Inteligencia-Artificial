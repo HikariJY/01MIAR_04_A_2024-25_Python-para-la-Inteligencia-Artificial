{
 "cells": [
  {
   "cell_type": "markdown",
   "id": "649e8380-4e02-4fec-868c-343c5596e5ef",
   "metadata": {},
   "source": [
    "# Ejercicios del archivo 01MIAR_04_Functions"
   ]
  },
  {
   "cell_type": "markdown",
   "id": "85ed0f27-42bd-4505-a2e8-ee5fb595eec1",
   "metadata": {},
   "source": [
    "1. Escribe una función que reciba como entrada una *lista* con números y devuelva como resultado una *lista* con los cuadrados de los números contenidos en la lista de entrada."
   ]
  },
  {
   "cell_type": "code",
   "execution_count": 3,
   "id": "7b9c2e81-2bbb-4bcc-967b-6d40c922fd48",
   "metadata": {},
   "outputs": [
    {
     "name": "stdout",
     "output_type": "stream",
     "text": [
      "[1, 4, 9, 16, 25]\n"
     ]
    }
   ],
   "source": [
    "def obetner_cuadrado(lista):\n",
    "    return [x*x for x in lista]\n",
    "\n",
    "print(cuadrado([1, 2, 3, 4, 5]))"
   ]
  },
  {
   "cell_type": "markdown",
   "id": "e55e1edf-fc6c-4204-ba78-18d0714c0e4a",
   "metadata": {},
   "source": [
    "2. Escribe una función que reciba números como entrada y devuelva la suma de los mismos. La función debe ser capaz de recibir una cantidad indeterminada de números. La función no debe recibir directamente ningún objeto complejo (lista, conjunto, etc.)."
   ]
  },
  {
   "cell_type": "code",
   "execution_count": 5,
   "id": "ee8e4ec6-da56-4453-8436-7de602eec5c9",
   "metadata": {},
   "outputs": [
    {
     "name": "stdout",
     "output_type": "stream",
     "text": [
      "15\n"
     ]
    }
   ],
   "source": [
    "def obtener_suma(*x):\n",
    "    return sum(x)\n",
    "\n",
    "print(obtener_suma(1, 2, 3, 4, 5))"
   ]
  },
  {
   "cell_type": "markdown",
   "id": "30d81db5-e7cd-4b4e-a068-6b2a5617c72b",
   "metadata": {},
   "source": [
    "3. Escribe una función que reciba un string como entrada y devuelva el string al revés. Ejemplo: si el string de entrada es 'hola', el resultado será 'aloh'."
   ]
  },
  {
   "cell_type": "code",
   "execution_count": 15,
   "id": "89cd0ada-0237-4952-92eb-d7e9e21a56d5",
   "metadata": {},
   "outputs": [
    {
     "name": "stdout",
     "output_type": "stream",
     "text": [
      "aloh\n"
     ]
    }
   ],
   "source": [
    "def invertir1(frase):\n",
    "    return frase[-1::-1]\n",
    "\n",
    "print(invertir1('hola'))"
   ]
  },
  {
   "cell_type": "markdown",
   "id": "a903ca80-26b1-49f1-a1bf-7d79b1af6394",
   "metadata": {},
   "source": [
    "4. Escribe una función *lambda* que, al igual que la función desarrollada en el ejercicio anterior, invierta el string recibido como parámetro. Ejemplo: si el string de entrada es 'hola', el resultado será 'aloh'."
   ]
  },
  {
   "cell_type": "code",
   "execution_count": 16,
   "id": "c7bae881-cf93-40f6-bf18-9771f7b2fa4f",
   "metadata": {},
   "outputs": [
    {
     "name": "stdout",
     "output_type": "stream",
     "text": [
      "aloh\n"
     ]
    }
   ],
   "source": [
    "invertir2 = lambda frase : frase[-1::-1]\n",
    "print(invertir2('hola'))"
   ]
  },
  {
   "cell_type": "markdown",
   "id": "0acd21a4-bc1c-4b14-9783-565e24b63ae5",
   "metadata": {},
   "source": [
    "5. Escribe una función que compruebe si un número se encuentra dentro de un rango específico."
   ]
  },
  {
   "cell_type": "code",
   "execution_count": 23,
   "id": "2e6d88aa-6cb6-4d80-b109-ab10effec5ea",
   "metadata": {},
   "outputs": [
    {
     "name": "stdout",
     "output_type": "stream",
     "text": [
      "1 SI se encuentra dentro del rango (0, 10).\n"
     ]
    }
   ],
   "source": [
    "def en_rango(numero, rango):\n",
    "    return f'{numero} SI se encuentra dentro del rango {rango}.' if numero in range(rango[0], rango[1]) else f'{numero} NO se encuentra dentro del rango {rango}.'\n",
    "\n",
    "rango = (0, 10)\n",
    "print(en_rango(1, rango))"
   ]
  },
  {
   "cell_type": "markdown",
   "id": "3637ea2e-1673-4b9b-b09c-6f65e5cea126",
   "metadata": {},
   "source": [
    "6. Escribe una función que reciba un número entero positivo como parámetro y devuelva una lista que contenga los 5 primeros múltiplos de dicho número. Por ejemplo, si la función recibe el número 3, devolverá la lista [3, 6, 9, 12, 15]. Si la función recibe un parámetro incorrecto (por ejemplo, un múmero menor o igual a cero), mostrará un mensaje de error por pantalla y devolverá una lista vacía."
   ]
  },
  {
   "cell_type": "code",
   "execution_count": 28,
   "id": "63cdaf1c-300c-4fbc-a993-e5d0fc9de073",
   "metadata": {},
   "outputs": [
    {
     "name": "stdout",
     "output_type": "stream",
     "text": [
      "Numero ingresado incorrecto: -1 debe ser un solo numero y entero positivo.\n",
      "[]\n"
     ]
    }
   ],
   "source": [
    "def primeros_5_multiplos(numero):\n",
    "    if numero>0:\n",
    "        return [numero*i for i in range(1, 6)]\n",
    "    else:\n",
    "        print(f'Numero ingresado incorrecto: {numero} debe ser un solo numero y entero positivo.')\n",
    "        return []\n",
    "\n",
    "print(primeros_5_multiplos(-1))"
   ]
  },
  {
   "cell_type": "markdown",
   "id": "23a70035-e22a-418b-a025-f5ae4d0f3ea5",
   "metadata": {},
   "source": [
    "7. Escribe una función que reciba una lista como parámetro y compruebe si la lista tiene duplicados. La función devolverá *True* si la lista tiene duplicados y *False* si no los tiene."
   ]
  },
  {
   "cell_type": "code",
   "execution_count": 38,
   "id": "f48a90a0-8701-45f9-8159-4dc2a6e63bd3",
   "metadata": {},
   "outputs": [
    {
     "name": "stdout",
     "output_type": "stream",
     "text": [
      "False\n"
     ]
    }
   ],
   "source": [
    "def detectar_duplicados1(lista):\n",
    "    return True in [x in lista[i+1::] for i, x in enumerate(lista)]\n",
    "\n",
    "print(detectar_duplicados1([1, 2, 3, 4, 5]))"
   ]
  },
  {
   "cell_type": "markdown",
   "id": "cf64f0d9-8f5e-42ec-a7fb-e591d39e812c",
   "metadata": {},
   "source": [
    "8. Escribe una función *lambda* que, al igual que la función desarrollada en el ejercicio anterior, reciba una lista como parámetro y compruebe si la lista tiene duplicados. La función devolverá *True* si la lista tiene duplicados y *False* si no los tiene."
   ]
  },
  {
   "cell_type": "code",
   "execution_count": 40,
   "id": "0778554f-3664-4187-bd47-0236f713861d",
   "metadata": {},
   "outputs": [
    {
     "name": "stdout",
     "output_type": "stream",
     "text": [
      "True\n"
     ]
    }
   ],
   "source": [
    "detectar_duplicados2 = lambda lista: True in [x in lista[i+1::] for i, x in enumerate(lista)]\n",
    "\n",
    "print(detectar_duplicados2([1, 2, 3, 4, 2]))"
   ]
  },
  {
   "cell_type": "code",
   "execution_count": 41,
   "id": "54f735fd-8020-4c9a-9699-2e756a90bae8",
   "metadata": {},
   "outputs": [
    {
     "name": "stdout",
     "output_type": "stream",
     "text": [
      "True\n"
     ]
    }
   ],
   "source": [
    "contiene_duplicados = lambda lista : len(lista) != len(set(lista))\n",
    "\n",
    "print(contiene_duplicados([1, 2, 3, 4, 2]))"
   ]
  },
  {
   "cell_type": "markdown",
   "id": "a24d645b-4fc9-44f3-b2cd-88d371316db1",
   "metadata": {},
   "source": [
    "9. Escribe una función que compruebe si un string dado es un palíndromo. Un palíndromo es una secuencia de caracteres que se lee igual de izquierda a derecha que de derecha a izquierda. Por ejemplo, la función devolverá *True* si recibe el string \"reconocer\" y *False* si recibe el string \"python\"."
   ]
  },
  {
   "cell_type": "code",
   "execution_count": 44,
   "id": "a3bc435e-4e20-40dc-be0a-9e0b75d29ae2",
   "metadata": {},
   "outputs": [
    {
     "name": "stdout",
     "output_type": "stream",
     "text": [
      "False\n"
     ]
    }
   ],
   "source": [
    "def es_palindromo1(palabra):\n",
    "    return palabra == palabra[-1::-1] if not ' ' in palabra else f'La palabra no debe contener espacios'\n",
    "\n",
    "print(es_palindromo1('python'))"
   ]
  },
  {
   "cell_type": "code",
   "execution_count": 48,
   "id": "9d1a3910-2152-44bd-ad72-3a7ea3b3243f",
   "metadata": {},
   "outputs": [
    {
     "name": "stdout",
     "output_type": "stream",
     "text": [
      "True\n"
     ]
    }
   ],
   "source": [
    "def es_palindromo2(frase):\n",
    "    frase = frase.lower().replace(' ', '').replace(',', '').replace('.', '')\n",
    "    return frase == frase[-1::-1]\n",
    "\n",
    "print(es_palindromo2('Anita, la gorda lagartona, no traga la droga latina.'))"
   ]
  },
  {
   "cell_type": "code",
   "execution_count": null,
   "id": "8c01cc14-2029-41ce-84da-a1cf48a4c752",
   "metadata": {},
   "outputs": [],
   "source": []
  }
 ],
 "metadata": {
  "kernelspec": {
   "display_name": "Python 3 (ipykernel)",
   "language": "python",
   "name": "python3"
  },
  "language_info": {
   "codemirror_mode": {
    "name": "ipython",
    "version": 3
   },
   "file_extension": ".py",
   "mimetype": "text/x-python",
   "name": "python",
   "nbconvert_exporter": "python",
   "pygments_lexer": "ipython3",
   "version": "3.11.7"
  }
 },
 "nbformat": 4,
 "nbformat_minor": 5
}
