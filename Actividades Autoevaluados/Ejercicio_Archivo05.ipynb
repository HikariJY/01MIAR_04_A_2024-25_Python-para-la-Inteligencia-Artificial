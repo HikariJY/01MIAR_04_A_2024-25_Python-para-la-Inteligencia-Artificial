{
 "cells": [
  {
   "cell_type": "markdown",
   "id": "27e9c71f-2e39-434d-b645-0881c181c135",
   "metadata": {},
   "source": [
    "# Ejercicios del archivo 01MIAR_05_Files"
   ]
  },
  {
   "cell_type": "markdown",
   "id": "524bf48e-9da3-45f9-8cf1-6ade99920deb",
   "metadata": {},
   "source": [
    "1. Escribe una función que reciba una ruta de un fichero de texto y una cadena de caracteres a buscar y determine si la cadena aparece en el fichero."
   ]
  },
  {
   "cell_type": "code",
   "execution_count": 7,
   "id": "50144434-38fc-49cf-8172-64d02120972c",
   "metadata": {},
   "outputs": [
    {
     "name": "stdout",
     "output_type": "stream",
     "text": [
      "True\n"
     ]
    }
   ],
   "source": [
    "import os\n",
    "\n",
    "def fichero_contiene_texto(ruta, texto):\n",
    "    with open(ruta, 'r') as fichero:\n",
    "        lineas = fichero.readlines()\n",
    "        for linea in lineas:\n",
    "            if texto in linea:\n",
    "                return True\n",
    "\n",
    "    return False\n",
    "\n",
    "print(fichero_contiene_texto(os.path.join('Anexos', 'Ejercicio_Archivo05_01.txt'),'Python'))"
   ]
  },
  {
   "cell_type": "markdown",
   "id": "c677060f-bfc5-4b25-8c45-00b0a3dd5a09",
   "metadata": {},
   "source": [
    "2. Escribe una función que reciba una lista, una ruta destino y un número *n*. La función debe crear un fichero en la ruta especificada. El contenido del fichero serán los primeros *n* elementos de la lista. La función debe controlar de manera apropiada los posibles valores de *n* que estén fuera de rango."
   ]
  },
  {
   "cell_type": "code",
   "execution_count": 12,
   "id": "06ed38e1-0e28-4161-88a3-9aa1d439f976",
   "metadata": {},
   "outputs": [],
   "source": [
    "#import os\n",
    "\n",
    "def crear_fichero(lista, ruta, numero):\n",
    "    with open(ruta, 'w') as fichero:\n",
    "        fichero.write(str(lista[:numero:]))\n",
    "\n",
    "crear_fichero([1, 2, 3, 4, 5, 6, 7, 8, 9, 10], os.path.join('Anexos', 'Ejercicio_Archivo05_02.txt'), 5)"
   ]
  },
  {
   "cell_type": "code",
   "execution_count": 16,
   "id": "c800bbc4-f5af-4840-8c38-3fbb4386e9d8",
   "metadata": {},
   "outputs": [
    {
     "name": "stdout",
     "output_type": "stream",
     "text": [
      "Fichero creado satisfactoriamente. Se escribieron 2 elementos en el fichero.\n"
     ]
    }
   ],
   "source": [
    "#import os\n",
    "\n",
    "def escribir_objetos(lista, ruta, n):\n",
    "    with open(ruta, 'w') as fichero:\n",
    "        try:\n",
    "            if(n < 0):\n",
    "                raise IndexError\n",
    "            for i in range(n):\n",
    "                fichero.write(f'{lista[i]}\\n')\n",
    "            print(f\"Fichero creado satisfactoriamente. Se escribieron {n} elementos en el fichero.\")\n",
    "        except IndexError:\n",
    "            print(f\"Acceso fuera de rango. Valor n incorrecto: {n}.\")\n",
    "            \n",
    "escribir_objetos(['a', 'b', 'c', 'd', 'e', 'f'], os.path.join('Anexos', 'Ejercicio_Archivo05_02.txt'), 2)"
   ]
  },
  {
   "cell_type": "markdown",
   "id": "ecc7fae9-6535-4a10-bf4f-e187d982e2b0",
   "metadata": {},
   "source": [
    "3. Escribe una función que reciba una ruta de un fichero de texto devuelva un diccionario con la frecuencia de aparición de cada palabra. Ejemplo: un fichero que contenga la frase 'es mejor que venga que que no venga' devolverá el siguiente diccionario: {'es' : 1, 'mejor' : 1, 'que' : 3, 'venga' : 2, 'no' : 1}. Para dividir un string en palabras puedes hacer uso del método *split*."
   ]
  },
  {
   "cell_type": "code",
   "execution_count": 13,
   "id": "33643ba6-eadf-4010-afa8-d05333dd0cc7",
   "metadata": {},
   "outputs": [
    {
     "name": "stdout",
     "output_type": "stream",
     "text": [
      "{'es': 2, 'mejor': 2, 'que': 6, 'venga': 4, 'no': 2}\n"
     ]
    }
   ],
   "source": [
    "import os\n",
    "\n",
    "def obtener_frecuencia(ruta):\n",
    "    diccionario = {}\n",
    "    with open(ruta, 'r') as fichero:\n",
    "        lineas = fichero.readlines()\n",
    "        lineas = [linea.lower().replace(',', '').replace('.', '').replace('\\n', '') for linea in lineas]\n",
    "        for linea in lineas:\n",
    "            for palabra in linea.split(' '):\n",
    "                if palabra in diccionario:\n",
    "                    diccionario[palabra] += 1\n",
    "                else:\n",
    "                    diccionario[palabra] = 1\n",
    "    return diccionario\n",
    "    \n",
    "print(obtener_frecuencia(os.path.join('Anexos', 'Ejercicio_Archivo05_03.txt')))"
   ]
  },
  {
   "cell_type": "code",
   "execution_count": null,
   "id": "4d2ebad8-78f4-4468-94be-b17cf8d24067",
   "metadata": {},
   "outputs": [],
   "source": []
  }
 ],
 "metadata": {
  "kernelspec": {
   "display_name": "Python 3 (ipykernel)",
   "language": "python",
   "name": "python3"
  },
  "language_info": {
   "codemirror_mode": {
    "name": "ipython",
    "version": 3
   },
   "file_extension": ".py",
   "mimetype": "text/x-python",
   "name": "python",
   "nbconvert_exporter": "python",
   "pygments_lexer": "ipython3",
   "version": "3.11.7"
  }
 },
 "nbformat": 4,
 "nbformat_minor": 5
}
