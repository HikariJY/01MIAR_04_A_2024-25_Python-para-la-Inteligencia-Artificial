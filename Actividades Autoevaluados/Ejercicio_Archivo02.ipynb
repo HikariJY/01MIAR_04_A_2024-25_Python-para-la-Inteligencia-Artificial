{
 "cells": [
  {
   "cell_type": "markdown",
   "id": "44d56181-a23b-4974-8369-ee41b0bbd872",
   "metadata": {},
   "source": [
    "# Ejercicios del archivo 01MIAR_02_DataTypes"
   ]
  },
  {
   "cell_type": "markdown",
   "id": "677c442e-7e78-45a6-9941-3c57505c5fca",
   "metadata": {},
   "source": [
    "1. Escribe un programa que muestre por pantalla la concatenación de un número y una cadena de caracteres. Para obtener esta concatenación puedes usar uno de los operadores explicados en este tema. Ejemplo: dado el número 3 y la cadena 'abc', el programa mostrará la cadena '3abc'."
   ]
  },
  {
   "cell_type": "code",
   "execution_count": 2,
   "id": "4ebf231e-1f61-40fd-955a-1a026460603c",
   "metadata": {},
   "outputs": [
    {
     "name": "stdout",
     "output_type": "stream",
     "text": [
      "3abc\n"
     ]
    }
   ],
   "source": [
    "x = 3\n",
    "y = 'abc'\n",
    "\n",
    "print(str(x)+y)"
   ]
  },
  {
   "cell_type": "markdown",
   "id": "1abd4784-446f-4a3f-8cf5-3dfafb733cda",
   "metadata": {},
   "source": [
    "2. Escribe un programa que muestre por pantalla un valor booleano que indique si un número entero *N* está contenido en un intervalo semiabierto *[a,b)*, el cual establece una cota inferior *a* (inclusive) y una cota superior *b* (exclusive) para *N*."
   ]
  },
  {
   "cell_type": "code",
   "execution_count": 14,
   "id": "d591c942-18ea-420f-b855-20909ec002b1",
   "metadata": {},
   "outputs": [
    {
     "name": "stdout",
     "output_type": "stream",
     "text": [
      "True\n"
     ]
    }
   ],
   "source": [
    "N = -1\n",
    "a, b = -3, 1\n",
    "\n",
    "print(a <= N < b if a < b else 'a no es menor que b')"
   ]
  },
  {
   "cell_type": "markdown",
   "id": "129b62e0-5aaa-4f2f-91b8-afa2b34de301",
   "metadata": {},
   "source": [
    "3. Escribe un programa que, dado dos strings *S1* y *S2* y dos números enteros *N1* y *N2*, determine si el substring que en *S1* se extiende desde la posición *N1* a la *N2* (ambos inclusive) está contenido en *S2*."
   ]
  },
  {
   "cell_type": "code",
   "execution_count": 16,
   "id": "cb1680d4-3045-4d69-8e77-fbd373bb7a7d",
   "metadata": {},
   "outputs": [
    {
     "name": "stdout",
     "output_type": "stream",
     "text": [
      "True\n"
     ]
    }
   ],
   "source": [
    "S1, S2 = 'Hola mundo', 'Hola mundo, es una frase muy usada en programacion'\n",
    "N1, N2 = 0, 3 #Hola\n",
    "\n",
    "print(S1[N1:N2+1] in S2)"
   ]
  },
  {
   "cell_type": "markdown",
   "id": "989c52e0-cdc8-4aeb-aa14-00f6b31966f0",
   "metadata": {},
   "source": [
    "4. Dada una *lista* con elementos duplicados, escribir un programa que muestre una nueva *lista* con el mismo contenido que la primera pero sin elementos duplicados."
   ]
  },
  {
   "cell_type": "code",
   "execution_count": 24,
   "id": "ead6c2b7-d55b-4928-95cc-ce55d177b89f",
   "metadata": {},
   "outputs": [
    {
     "name": "stdout",
     "output_type": "stream",
     "text": [
      "[1, 2, 3, 4, 5]\n"
     ]
    }
   ],
   "source": [
    "L = [1, 3, 5, 2, 4, 1, 2, 3]\n",
    "\n",
    "print(list(set(L)))"
   ]
  },
  {
   "cell_type": "markdown",
   "id": "c70a7608-c054-4fd1-bb1f-61e42e3fb5ba",
   "metadata": {},
   "source": [
    "5. Escribe un programa que, dada una *lista* de strings *L*, un string *s* perteneciente a *L* y un string *t*, reemplace *s* por *t* en *L*. El programa debe mostrar la lista resultante por pantalla."
   ]
  },
  {
   "cell_type": "code",
   "execution_count": 35,
   "id": "d069d04e-cbc0-4369-9f86-d423173a4d98",
   "metadata": {},
   "outputs": [
    {
     "name": "stdout",
     "output_type": "stream",
     "text": [
      "Antes del cambio: \n",
      " \t['primero', 'segundo', 'cuarto']\n",
      "Despues del cambio: \n",
      " \t['primero', 'tercero', 'cuarto']\n"
     ]
    }
   ],
   "source": [
    "s = 'segundo'\n",
    "L = ['primero', s, 'cuarto']\n",
    "print('Antes del cambio: \\n \\t'+str(L))\n",
    "t = 'tercero'\n",
    "L[L.index(s)] = t\n",
    "print('Despues del cambio: \\n \\t'+str(L))"
   ]
  },
  {
   "cell_type": "markdown",
   "id": "06aebcb2-75cc-4648-8038-283a2c323a37",
   "metadata": {},
   "source": [
    "6. Escribe un programa que defina una *tupla* con elementos numéricos, reemplace el valor del último por un valor diferente y muestre la *tupla* por pantalla. Recuerda que las *tuplas* son inmutables. Tendrás que usar objetos intermedios."
   ]
  },
  {
   "cell_type": "code",
   "execution_count": 41,
   "id": "5150cd66-0744-4876-bf79-8a672bb01986",
   "metadata": {},
   "outputs": [
    {
     "name": "stdout",
     "output_type": "stream",
     "text": [
      "(1, 2, 3, 5, 7)\n"
     ]
    }
   ],
   "source": [
    "T = (1, 2, 3, 5, 6)\n",
    "\n",
    "T = list(T)\n",
    "T[4] = 7\n",
    "print(tuple(T))"
   ]
  },
  {
   "cell_type": "markdown",
   "id": "9643eb76-209f-4f8a-a7b4-f0b126ab8c18",
   "metadata": {},
   "source": [
    "7. Dada la lista [1,2,3,4,5,6,7,8] escribe un programa que, a partir de esta lista, obtenga la lista [8,6,4,2] y la muestre por pantalla."
   ]
  },
  {
   "cell_type": "code",
   "execution_count": 62,
   "id": "e66ff68d-2efd-4683-ae70-dab8ea51c2c8",
   "metadata": {},
   "outputs": [
    {
     "name": "stdout",
     "output_type": "stream",
     "text": [
      "[8, 6, 4, 2]\n"
     ]
    }
   ],
   "source": [
    "L = [1,2,3,4,5,6,7,8]\n",
    "\n",
    "print(L[-1::-2])"
   ]
  },
  {
   "cell_type": "markdown",
   "id": "f84cb4ca-328a-4dce-ade6-db68b6c82992",
   "metadata": {},
   "source": [
    "8. Escribe un programa que, dada una tupla y un índice válido *i*, elimine el elemento de la tupla que se encuentra en la posición *i*. Para este ejercicio sólo puedes usar objetos de tipo tupla. No puedes convetir la *tupla* a una *lista*, por ejemplo."
   ]
  },
  {
   "cell_type": "code",
   "execution_count": 64,
   "id": "ac497125-33f6-41de-9fba-1c969e777a05",
   "metadata": {},
   "outputs": [
    {
     "name": "stdout",
     "output_type": "stream",
     "text": [
      "(0, 1, 2, 3, 5, 6, 7, 8, 9)\n"
     ]
    }
   ],
   "source": [
    "T = (0, 1, 2, 3, 4, 5, 6, 7, 8, 9)\n",
    "i = 4\n",
    "\n",
    "print(T[:i]+T[i+1:])"
   ]
  },
  {
   "cell_type": "markdown",
   "id": "7051708e-bf9b-4522-a31b-4ce27a7edb3a",
   "metadata": {},
   "source": [
    "9. Escribe un programa que obtenga la mediana de una *lista* de números. Recuerda que la mediana *M* de una lista de números *L* es el número que cumple la siguiente propiedad: la mitad de los números de *L* son superiores a *M* y la otra mitad son inferiores. Cuando el número de elementos de *L* es par, se puede considerar que hay dos medianas. No obstante, en este ejercicio consideraremos que únicamente existe una mediana."
   ]
  },
  {
   "cell_type": "code",
   "execution_count": 74,
   "id": "162e1aac-954e-4ada-9330-ed5b15768921",
   "metadata": {},
   "outputs": [
    {
     "name": "stdout",
     "output_type": "stream",
     "text": [
      "55\n"
     ]
    }
   ],
   "source": [
    "L = [23, 45, 11, 78, 32, 67, 89, 55, 14, 90]\n",
    "\n",
    "L.sort()\n",
    "M = L[len(L)//2]\n",
    "print(M)"
   ]
  }
 ],
 "metadata": {
  "kernelspec": {
   "display_name": "Python 3 (ipykernel)",
   "language": "python",
   "name": "python3"
  },
  "language_info": {
   "codemirror_mode": {
    "name": "ipython",
    "version": 3
   },
   "file_extension": ".py",
   "mimetype": "text/x-python",
   "name": "python",
   "nbconvert_exporter": "python",
   "pygments_lexer": "ipython3",
   "version": "3.11.7"
  }
 },
 "nbformat": 4,
 "nbformat_minor": 5
}
