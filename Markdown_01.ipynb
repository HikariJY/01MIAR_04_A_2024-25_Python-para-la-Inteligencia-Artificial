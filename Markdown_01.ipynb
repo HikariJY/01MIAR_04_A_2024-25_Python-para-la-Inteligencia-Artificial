{
 "cells": [
  {
   "cell_type": "markdown",
   "id": "af7e9e73-776d-4af7-9368-e660d36087f2",
   "metadata": {},
   "source": [
    "Poner titulos\n",
    "# Titulo de 1er nivel\n",
    "###### Titulo de 6to nivel"
   ]
  },
  {
   "cell_type": "markdown",
   "id": "f1fcd5f7-36e0-48b8-882d-4dd9fbeb91c3",
   "metadata": {},
   "source": [
    "Poner el caracter: <br>\n",
    "\\*palabra\\* o \\_palabra\\_ <br>\n",
    "Poner cursiva: <br>\n",
    "*palabra* o _palabra_ <br>\n",
    "Poner negritas: <br>\n",
    "**palabra** o __palabra__ <br>\n",
    "Poner negritas y cursiva: <br>\n",
    "***palabra*** o ___palabra___"
   ]
  },
  {
   "cell_type": "markdown",
   "id": "3c06f4ba-c8ae-4e62-a7dd-1bbbdeae6612",
   "metadata": {},
   "source": [
    "Poner texto resaltado: <br>\n",
    "`string` <br>\n",
    "```string``` <br>\n",
    "Poner anotaciones: <br>\n",
    "> Text that will be indented when the Markdown is rendered."
   ]
  },
  {
   "cell_type": "markdown",
   "id": "bc8b894b-d478-43a2-9296-9d784eae9c67",
   "metadata": {},
   "source": [
    "Poner simbolos para literales: <br>\n",
    "- 1er Nivel\n",
    "     - 2do Nivel \n",
    "        - 3er Nivel\n",
    "Poner literales:\n",
    "1. 1er Nivel\n",
    "    1. 2do Nivel\n",
    "       1. 3er Nivel"
   ]
  },
  {
   "cell_type": "markdown",
   "id": "0db29c39-4a9a-4ea3-9bbd-78a78d42e49f",
   "metadata": {},
   "source": [
    "Poner ecuaciones: <br>\n",
    "$e^{i\\pi} + 1 = 0$ <br>\n",
    "Poner ecuaciones en Latex:\n",
    "\\begin{equation}\n",
    "e^x=\\sum_{i=0}^\\infty \\frac{1}{i!}x^i\n",
    "\\end{equation}"
   ]
  },
  {
   "cell_type": "markdown",
   "id": "0954adbc-09f4-44a7-a601-2c39a8738193",
   "metadata": {},
   "source": [
    "Poner codigo con formato:\n",
    "```python\n",
    "print \"Hello World\"\n",
    "```\n",
    "```javascript\n",
    "console.log(\"Hello World\")\n",
    "```"
   ]
  },
  {
   "cell_type": "markdown",
   "id": "8984ca84-b8d0-4470-832c-2550e46906e2",
   "metadata": {},
   "source": [
    "Poner tablas:\n",
    "| This | is |\n",
    "|------|------|\n",
    "| a | table|\n"
   ]
  },
  {
   "cell_type": "markdown",
   "id": "a535cba9-8a6e-4a05-9114-7aefc6a4a5c5",
   "metadata": {},
   "source": [
    "Para referenciar cosas dentro del notebook: <br>\n",
    "[Section title](#section-title) <br>\n",
    "Para anexar direcciones externas: <br>\n",
    "[link text](http://url)\n",
    "[link text](Untitled.ipynb)"
   ]
  },
  {
   "cell_type": "markdown",
   "id": "56b8ae73-9d4f-47f0-9983-a26ff9b53adf",
   "metadata": {},
   "source": [
    "Para anexar imagenes: <br>\n",
    "<img src=\"Untitled.jpg\" width=\"100\"/>/>"
   ]
  },
  {
   "cell_type": "markdown",
   "id": "ffd5c8d1-e447-4aee-afdd-de5bfa174b1b",
   "metadata": {},
   "source": [
    "Para anexar videos: <br>\n",
    "<video controls src=\"../images/animation.m4v\">animation</video>"
   ]
  },
  {
   "cell_type": "markdown",
   "id": "07bfa51b-56a5-4883-a503-7ccfd1754c19",
   "metadata": {},
   "source": [
    "<div class=\"alert alert-block alert-info\">\n",
    "<b>Tip:</b> Nota de alerta o información.\n",
    "</div>"
   ]
  },
  {
   "cell_type": "markdown",
   "id": "ee504e6a-b714-4bec-8df3-e5f6ee68262e",
   "metadata": {},
   "source": [
    "<div class=\"alert alert-block alert-warning\">\r\n",
    "<b>Example:</b>Nota de ejemplos o aplicaciones, fórmulas, etc.d.\r\n",
    "</div>"
   ]
  },
  {
   "cell_type": "markdown",
   "id": "70fbcdc9-c77d-4de9-a747-0a544e78eab3",
   "metadata": {},
   "source": [
    "<div class=\"alert alert-block alert-danger\">\n",
    "<b>Just don't:</b> Nota de alerta o peligro. Para evitar hacerlo.\n",
    "</div>"
   ]
  },
  {
   "cell_type": "markdown",
   "id": "206961db-46d1-4dda-87d9-782a87d71d7d",
   "metadata": {},
   "source": [
    "<div class=\"alert alert-block alert-success\">\n",
    "<b>Up to you:</b> Nota para otros usos que no sean los anteriores. Por lo general para enlazar con otras cosas.\n",
    "</div>"
   ]
  },
  {
   "cell_type": "code",
   "execution_count": null,
   "id": "6e20c9bd-bae0-4188-b3bf-0544cdcf36a1",
   "metadata": {},
   "outputs": [],
   "source": []
  }
 ],
 "metadata": {
  "kernelspec": {
   "display_name": "Python 3 (ipykernel)",
   "language": "python",
   "name": "python3"
  },
  "language_info": {
   "codemirror_mode": {
    "name": "ipython",
    "version": 3
   },
   "file_extension": ".py",
   "mimetype": "text/x-python",
   "name": "python",
   "nbconvert_exporter": "python",
   "pygments_lexer": "ipython3",
   "version": "3.11.7"
  }
 },
 "nbformat": 4,
 "nbformat_minor": 5
}
