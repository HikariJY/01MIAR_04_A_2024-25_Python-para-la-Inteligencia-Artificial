{
 "cells": [
  {
   "cell_type": "markdown",
   "id": "263c764b-f0f9-4fb7-8019-3fac6203a855",
   "metadata": {},
   "source": [
    "*Imports*\n",
    "\n",
    "`import math` Matematicas <br>\n",
    "`from os import path` Archivos y generar directorio <br>\n",
    "`import csv` Archivos CSV <br>\n",
    "`import numpy as np` Numpy <br>\n",
    "`import pandas as pd` Pandas <br>\n",
    "`import random` Random (preferible numpy) <br>\n",
    "`import matplotlib.pyplot as plt` Plots <br>\n",
    "`import seaborn as sns` Plots 2.0 <br>\n",
    "`import urllib.request` Descargar desde URL <br>\n",
    "`import zipfile as zp` Descomprimir archivos Zip <br>\n",
    "`from functools import reduce` Reduce <br>\n",
    "`import copy` Copiar <br>\n",
    "``\n"
   ]
  },
  {
   "cell_type": "markdown",
   "id": "90d2dba5-3421-4a0d-92af-f1a5ab4600ad",
   "metadata": {},
   "source": [
    "*Declaraciones*\n",
    "\n",
    "`x = 3` Enteros decimales <br>\n",
    "`x = 3.2` Flotantes decimales <br>\n",
    "`x = 'Palabra/Oracion'` Strings <br>\n",
    "`x = True` Bools <br>\n",
    "`lista = [1, 2, 3]` Listas mutable <br>\n",
    "`tupla = (1, 2, 3)` Tuplas inmutables <br>\n",
    "`conjunto = {1, 2, 3}` Conjuntos (set) permite tuplas <br>\n",
    "`diccionario = {'a': 1, 'b': 2}` Dict <br>\n",
    "`complejo = 2+4j` Número complejo (complex) <br>\n",
    "`z = 0b00111010` Binario <br>\n",
    "`w = 0o72` Octal <br>\n",
    "`y = 0x3A` Hexadecimal <br>\n",
    "``\n"
   ]
  },
  {
   "cell_type": "markdown",
   "id": "d58eec97-64aa-4686-b92f-6639a754e731",
   "metadata": {},
   "source": [
    "*Operaciones*\n",
    "\n",
    "`a + b` Suma <br>\n",
    "`a - b` Resta <br>\n",
    "`a * b` Multiplicación <br>\n",
    "`a / b` División flotante <br>\n",
    "`a // b` División entera <br>\n",
    "`a % b` Resto <br>\n",
    "`a ** b` Exponencial <br>\n",
    "`a, b = b, a` Intercambio de valores <br>\n",
    "``\n"
   ]
  },
  {
   "cell_type": "markdown",
   "id": "58203e6e-bc19-4ffe-9155-31dc5bcd5fa0",
   "metadata": {},
   "source": [
    "*Operaciones Booleanas*\n",
    "\n",
    "`a is b` Comprueba si son el mismo objeto <br>\n",
    "`a is not b` Comprueba si no son el mismo objeto <br>\n",
    "`a in b` Comprueba si está en <br>\n",
    "`a not in b` Comprueba si no está en <br>\n",
    "`math.isclose(a, c)` Comprueba si el valor son aproximadamente iguales <br>\n",
    "`a == b` Comprueba si son iguales en valor <br>\n",
    "`a != b` Comprueba si no son iguales en valor <br>\n",
    "`a < b` Comprueba si es menor <br>\n",
    "`a <= b` Comprueba si es menor igual <br>\n",
    "`a > b` Comprueba si mayor <br>\n",
    "`a >= b` Comprueba si mayor igual <br>\n",
    "`a and b` Lógica AND <br>\n",
    "`a or b` Lógica OR <br>\n",
    "`not a` Negación <br>\n",
    "``\n"
   ]
  },
  {
   "cell_type": "markdown",
   "id": "fe491268-51d1-4665-a6fb-816c06c2c806",
   "metadata": {},
   "source": [
    "*Operadores Bitwise / Binarios*\n",
    "\n",
    "`a & b` AND a nivel de bits <br>\n",
    "`a | b` OR a nivel de bits <br>\n",
    "`a ^ b` XOR a nivel de bits <br>\n",
    "`~ a` NOT a nivel de bits <br>\n",
    "`a << b` Desplazamiento a la izquierda: desplaza los bits a la izquierda.\n",
    "`a >> b` Desplazamiento a la derecha: desplaza los bits a la derecha.\n",
    "``\n"
   ]
  },
  {
   "cell_type": "markdown",
   "id": "6af9e426-c78c-4f5d-a8f8-af1db6ffc3e1",
   "metadata": {},
   "source": [
    "*Operadores de asignación*\n",
    "\n",
    "`a += b` Suma en asignación <br>\n",
    "`a -= b` Resta en asignación <br>\n",
    "`a *= b` Multiplicación en asignación <br>\n",
    "`a /= b` División flotante en asignación <br>\n",
    "`a //= b` División entera en asignación <br>\n",
    "`a %= b` Resto en asignación <br>\n",
    "`a **= b` Exponencial en asignación <br>\n",
    "`a &= b` AND en asignación <br>\n",
    "`a |= b` OR en asignación <br>\n",
    "`a ^= b` XOR en asignación <br>\n",
    "`a >>= b` Desplazamiento a la derecha en asignación <br>\n",
    "`a <<= b` Desplazamiento a la izquierda en asignación <br>\n",
    "``\n"
   ]
  },
  {
   "cell_type": "markdown",
   "id": "c355692b-57ea-4a19-be98-83af60349fa2",
   "metadata": {},
   "source": [
    "*Conversión de tipos*\n",
    "\n",
    "`x = int(y)` A entero <br>\n",
    "`x = float(y)` A flotante <br>\n",
    "`x = str(y)` A string <br>\n",
    "`x = bool(y)` A booleano <br>\n",
    "`x = list(y)` A lista <br>\n",
    "`x = tuple(y)` A tupla <br>\n",
    "`x = set(y)` A conunto <br>\n",
    "`x = dict(y)` A diccionario <br>\n",
    "`x = complex(y)` A número complejo <br>\n",
    "`x = hex(y)` A hexadecimal <br>\n",
    "`x = oct(y)` A octal <br>\n",
    "`x = bytes(y, encoding='utf-8')` A secuencia de bytes <br>\n",
    "`x = bytearray(y, encoding='utf-8')` A arreglo de bytes <br>\n",
    "`x = ord(y)` A valor Unicode <br>\n",
    "`x = chr(y)` A carácter Unicode <br>\n",
    "`id(x)` Obtener el tipo <br>\n",
    "``\n"
   ]
  },
  {
   "cell_type": "markdown",
   "id": "7debda8e-2182-4bba-99f2-95b1066c9929",
   "metadata": {},
   "source": [
    "*Edición de Strings o arrays*\n",
    "\n",
    "`s = 'John \"ee\" Doe'` <br> <br>\n",
    "\n",
    "`s[0]` Primer caracter <br>\n",
    "`s[-1]` Último caracter <br>\n",
    "`s[a:b:c]` Caracteres desde $a$ hasta $b-1$ a pasos de $c$ <br>\n",
    "`s[:]` Caracteres desde $0$ hasta $-1$ a pasos de $1$ <br>\n",
    "`s + \"e\"` Concatenar Strings <br>\n",
    "`s.upper()` Convertir a mayúsculas <br>\n",
    "`s.lower()` Convertir a minúsculas <br>\n",
    "`s.strip()` Eliminar espacios en blanco al inicio y al final <br>\n",
    "`s.replace(a, b)` Reemplazar $a$ con $b$ <br>\n",
    "`s.split(a)` Dividir el string en una lista de substrings usando un delimitador $a$ <br>\n",
    "`a.join(b)` Unir una lista $b$ de strings en un solo string usando un separador $a$ <br>\n",
    "``\n",
    "\n",
    "*Edición de arrays*\n",
    "\n",
    "`len(s)` Obtener el tamaño o longitud <br>\n",
    "`s.copy()` Obtener una copia <br>\n",
    "`s.append(a)` Añadir elemento <br>\n",
    "`s.insert(b, a)` Insertar elemento a en la posición b <br>\n",
    "`s.remove(a)` Remover elemento <br>\n",
    "`s.extend(a)` Extiendo con otro array <br>\n",
    "`s.sort()` Ordenar <br>\n",
    "`sorted(s)` Obtener ordenado <br>\n",
    "`s.pop(a)` Eliminar el primer elemento a travez de una clave <br>\n",
    "`s.get(a)` Obtener el valor de la clave a <br>\n",
    "`s.items()` Obtener todo <br>\n",
    "`s.keys()` Obtener las claves <br>\n",
    "`s.values()` Obtener los valores <br>\n",
    "`a.union(b)` Union de a con b <br>\n",
    "`a.intersection(b)` Interseccion de a con b <br>\n",
    "`a.difference(b)` Diferencia entre a con b <br>\n",
    "`a.issubset(b)` <br>\n",
    "`a.issuperset(b)` <br>\n",
    "`set1.isdisjoint(set2)` <br>\n",
    "`a.update(b)` <br>\n",
    "`s.count(a)` <br>\n",
    "`s.index(a)` <br>\n",
    "`x = zip(a, b)` <br>\n",
    "`copy.deepcopy(s)` <br>\n",
    "``\n"
   ]
  },
  {
   "cell_type": "markdown",
   "id": "cf4b2d77-2f66-4099-880e-2b028446db41",
   "metadata": {},
   "source": [
    "*Prints*\n",
    "\n",
    "`print('Hola mundo')` Solo strings <br>\n",
    "`print(x)` Solo variables <br>\n",
    "`print('x=',x)` String y final con variable <br>\n",
    "`print(f'x={x}')` String tipo funcion <br>\n",
    "`print(r'$x^2$')` String tipo Latex <br>\n",
    "`print(r'${}^2$'.format(x))` String tipo Latex con variables <br>\n",
    "`valor = input(\"Inserte valor:\")` Leer un valor por teclado <br>\n",
    "``\n"
   ]
  },
  {
   "cell_type": "markdown",
   "id": "40741ed3-8df9-4738-9c5e-89a027611b1e",
   "metadata": {},
   "source": [
    "*Fors*\n",
    "\n",
    "`for i, value in enumerate(vector):` Bucle enumerado con indice y valor <br>\n",
    "`for i in range(n):` Bucle desde o a n-1 <br>\n",
    "`for i in range(n, m, step=1):` Bucle de los valores desde n hasta m-1 con pasos <br>\n",
    "`for value in vector:` Bucle de los valores <br>\n",
    "``\n"
   ]
  },
  {
   "cell_type": "markdown",
   "id": "27d0439e-e3df-49cc-adb4-da486878a615",
   "metadata": {},
   "source": [
    "*Funciones*\n",
    "\n",
    "`def Function_Name(in:in_type = in_value, *array, **multiarray) -> out_type:\n",
    "    return out_value` <br>\n",
    "`[x if a else b for x in c if d]` <br>\n",
    "`[x if a else b if c else d]` <br>\n",
    "`[x for x in a for a in b]` <br>\n",
    "`{x : x*x if a else b for x in c if d}` <br>\n",
    "`try:\n",
    "    lista[2]\n",
    "    lista[4]\n",
    "except IndexError:\n",
    "    print('Exception IndexError Captured')  \n",
    "finally:\n",
    "    print('Bloque finally')` <br>\n",
    "`try:\n",
    "    if indice >= len(lista):\n",
    "        raise IndexError('Índice fuera de rango')\n",
    "except IndexError:\n",
    "    print('Excepción de tipo IndexError capturada')` <br>\n",
    "`x = lambda in : operation` <br>\n",
    "``\n"
   ]
  },
  {
   "cell_type": "markdown",
   "id": "aa7d6166-3e59-4485-a8a8-621233739c6d",
   "metadata": {},
   "source": [
    "*Numpy*\n",
    "\n",
    "`random = np.random.randint(min, max=0, size=None, dtype=int) # size=(1, 2)` <br>\n",
    "``\n"
   ]
  },
  {
   "cell_type": "markdown",
   "id": "de03ff2a-467a-4419-b279-50167120f1f4",
   "metadata": {},
   "source": [
    "*Pandas*\n",
    "\n",
    "`data_frame = pd.DataFrame(list)` <br>\n",
    "`my_arr = np.arange(start=0, stop, step=1, dtype=None)`\n",
    "``\n"
   ]
  },
  {
   "cell_type": "markdown",
   "id": "1ccaf6f2-2af1-4bba-9562-330c04c42702",
   "metadata": {},
   "source": []
  },
  {
   "cell_type": "markdown",
   "id": "86c63e81-9b73-46d7-9d41-008adbb7f76b",
   "metadata": {},
   "source": []
  },
  {
   "cell_type": "markdown",
   "id": "88f47634-f089-47f7-a969-fd3b235bc8fb",
   "metadata": {},
   "source": []
  },
  {
   "cell_type": "markdown",
   "id": "702a189b-8341-464e-b721-296134cc2aa1",
   "metadata": {},
   "source": []
  },
  {
   "cell_type": "markdown",
   "id": "601adaa8-0af6-4b1e-a9e2-c401d31d3900",
   "metadata": {},
   "source": []
  },
  {
   "cell_type": "markdown",
   "id": "18a8bf8c-a747-493a-a2d0-ac50171b7385",
   "metadata": {},
   "source": []
  },
  {
   "cell_type": "markdown",
   "id": "7ef0df93-369b-4808-8d19-580e44bfc2cc",
   "metadata": {},
   "source": []
  },
  {
   "cell_type": "markdown",
   "id": "76b84f10-b6ff-459b-84cb-29f76103de7d",
   "metadata": {},
   "source": []
  },
  {
   "cell_type": "markdown",
   "id": "03192d61-641e-44c1-a882-460d6052a9a2",
   "metadata": {},
   "source": []
  },
  {
   "cell_type": "markdown",
   "id": "ab81c49a-691e-49d6-8dc8-4cc03b761870",
   "metadata": {},
   "source": []
  }
 ],
 "metadata": {
  "kernelspec": {
   "display_name": "Python 3 (ipykernel)",
   "language": "python",
   "name": "python3"
  },
  "language_info": {
   "codemirror_mode": {
    "name": "ipython",
    "version": 3
   },
   "file_extension": ".py",
   "mimetype": "text/x-python",
   "name": "python",
   "nbconvert_exporter": "python",
   "pygments_lexer": "ipython3",
   "version": "3.11.7"
  }
 },
 "nbformat": 4,
 "nbformat_minor": 5
}
