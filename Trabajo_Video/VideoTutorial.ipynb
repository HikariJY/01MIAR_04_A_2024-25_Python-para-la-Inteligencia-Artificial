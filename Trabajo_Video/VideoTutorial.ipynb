{
 "cells": [
  {
   "cell_type": "code",
   "execution_count": 3,
   "id": "e706e297-d296-4ff8-9812-4aaa516396ef",
   "metadata": {},
   "outputs": [],
   "source": [
    "from time import sleep\n",
    "from os import path\n",
    "\n",
    "import requests\n",
    "import pandas as pd"
   ]
  },
  {
   "cell_type": "code",
   "execution_count": 2,
   "id": "aa982868-01b9-4b6a-b3ee-0ed43b564753",
   "metadata": {},
   "outputs": [],
   "source": [
    "def make_request(base_url, params):\n",
    "    response = requests.get(base_url, params=params)\n",
    "    if response:\n",
    "        return response.json()\n",
    "    else:\n",
    "        raise Exception('Error Downloading JSON.')"
   ]
  },
  {
   "cell_type": "code",
   "execution_count": 4,
   "id": "d87ee5c5-7508-4579-a7cf-b34c63c554bc",
   "metadata": {},
   "outputs": [],
   "source": [
    "base_url = 'https://valencia.opendatasoft.com/api/explore/v2.1/catalog/datasets/estacions-contaminacio-atmosferiques-estaciones-contaminacion-atmosfericas/records'"
   ]
  },
  {
   "cell_type": "code",
   "execution_count": 5,
   "id": "b107a1b4-42d6-4562-b5e0-8fd9c8225737",
   "metadata": {},
   "outputs": [
    {
     "name": "stdout",
     "output_type": "stream",
     "text": [
      "Total number of Active Stations = 11\n"
     ]
    }
   ],
   "source": [
    "params = {'limit': 0}\n",
    "n_stations = make_request(base_url, params)['total_count']\n",
    "print(f'Total number of Active Stations = {n_stations}')"
   ]
  },
  {
   "cell_type": "code",
   "execution_count": 7,
   "id": "c4d87f10-4074-4140-a205-8ce5512709da",
   "metadata": {},
   "outputs": [],
   "source": [
    "first_time = True\n",
    "max_records_per_request = 100\n",
    "\n",
    "current_time = 0\n",
    "sleep_time = 1 * 60 * 60\n",
    "total_time = (24 * 60 * 60) + sleep_time\n",
    "\n",
    "# Test\n",
    "total_time = 1\n",
    "sleep_time = 1\n",
    "\n",
    "path_csv = ['res', 'valencia_pollution_dataset.csv']\n",
    "path_csv_solved = path.join(*path_csv)"
   ]
  },
  {
   "cell_type": "code",
   "execution_count": null,
   "id": "16aa1762-6028-41bb-91f2-363bb3161328",
   "metadata": {},
   "outputs": [
    {
     "name": "stdout",
     "output_type": "stream",
     "text": [
      "Current Time = 0, Record Processed = 11\n"
     ]
    }
   ],
   "source": [
    "while current_time < total_time:\n",
    "    offset = 0\n",
    "    pollution_list = []\n",
    "    while offset < n_stations:\n",
    "        params = {'limit': max_records_per_request,\n",
    "                 'offset': offset}\n",
    "        sub_list = make_request(base_url, params=params)['results']\n",
    "        pollution_list += sub_list\n",
    "        offset += max_records_per_request\n",
    "    print(f'Current Time = {current_time}, Record Processed = {len(pollution_list)}')\n",
    "    df = pd.DataFrame(pollution_list,\n",
    "                 columns=['objectid', 'nombre', 'direccion', 'tipozona', 'tipoemision', 'so2', 'no2', 'o3', 'co', 'pm10', 'pm25', 'fecha_carga', 'calidad_ambiental'])\n",
    "    df.to_csv(path_csv_solved, sep=',', header=True if first_time else False, index=False, mode='a', na_rep='N/A')\n",
    "    first_time = False\n",
    "    sleep(sleep_time)\n",
    "    current_time += sleep_time"
   ]
  },
  {
   "cell_type": "code",
   "execution_count": null,
   "id": "03fea654-1298-43fe-85fe-3863c37d7100",
   "metadata": {},
   "outputs": [],
   "source": [
    "display(df.head(5))"
   ]
  },
  {
   "cell_type": "code",
   "execution_count": null,
   "id": "39266c20-2691-4a4b-86a5-e24ad09f4d9f",
   "metadata": {},
   "outputs": [],
   "source": [
    "display(df.info())"
   ]
  },
  {
   "cell_type": "code",
   "execution_count": null,
   "id": "300d0e6d-30d0-4c16-9ff9-69ffdc67f979",
   "metadata": {},
   "outputs": [],
   "source": [
    "display(df.describe(include='all'))"
   ]
  }
 ],
 "metadata": {
  "kernelspec": {
   "display_name": "Python 3 (ipykernel)",
   "language": "python",
   "name": "python3"
  },
  "language_info": {
   "codemirror_mode": {
    "name": "ipython",
    "version": 3
   },
   "file_extension": ".py",
   "mimetype": "text/x-python",
   "name": "python",
   "nbconvert_exporter": "python",
   "pygments_lexer": "ipython3",
   "version": "3.11.7"
  }
 },
 "nbformat": 4,
 "nbformat_minor": 5
}
