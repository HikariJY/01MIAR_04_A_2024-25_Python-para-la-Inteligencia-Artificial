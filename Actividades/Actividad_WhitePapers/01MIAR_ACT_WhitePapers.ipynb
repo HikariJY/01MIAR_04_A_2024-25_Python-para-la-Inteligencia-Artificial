{
 "cells": [
  {
   "cell_type": "markdown",
   "metadata": {},
   "source": [
    "<img src=\"../img/viu_logo.png\" width=\"200\">\n",
    "\n",
    "# 01MIAR - Actividad Whitepapers"
   ]
  },
  {
   "cell_type": "markdown",
   "metadata": {},
   "source": [
    "### Introducción:\n",
    "\n",
    "- Para abordar un proyecto de Inteligencia Artificial es necesario disponer del conocimiento suficiente tanto a nivel teórico como técnico para garantizar el éxito en la consecución de los objetivos. La fase de investigación sobre la temática de un proyecto es indispensable para conocer nuevos enfoques o afianzar y dar sustento a las acciones que se llevarán a cabo en los trabajos. Los artículos científicos son la referencia más utilizada para investigar sobre un ámbito de conocimiento ya que, antes de su publicación, son aceptados en un proceso llamado “revisión por pares”."
   ]
  },
  {
   "cell_type": "markdown",
   "metadata": {},
   "source": [
    "### Objetivo\n",
    "\n",
    "- Investigar sobre el estado actual del conocimiento sobre procesamiento de datos en trabajos relacionados con Inteligencia Artificial, en concreto, con el uso de Python y\n",
    "librerías.\n",
    "\n",
    "- El propósito de esta actividad es conocer e indagar en los contenidos definidos en la asignatura Python para la Inteligencia Artificial mediante artículos científicos, siendo\n",
    "estos el marco del conocimiento a investigar."
   ]
  },
  {
   "cell_type": "markdown",
   "metadata": {},
   "source": [
    "### Trabajo Previo\n",
    "\n",
    "Para realizar esta actividad es recomendable leer:\n",
    "\n",
    "- Van Der Walt, S., Colbert, S. C., Varoquaux, G. (2011). The NumPy array: A structure for efficient numerical computation. Computing in Science and Engineering, 13(2), 22-30. https://www.researchgate.net/publication/224223550_The_NumPy_Array_A_Structure_for_Efficient_Numerical_\n",
    "Computation\n",
    "- McKinney, W. (2010). Data Structures for Statistical Computing in Python. Proceedings of the 9th Python in Science Conference, December, 56-61. https://www.researchgate.net/publication/265001241_Data_Structures_for_Statistical_Computing_in_Python"
   ]
  },
  {
   "cell_type": "markdown",
   "metadata": {},
   "source": [
    "### Metodología\n",
    "\n",
    "- Buscar y seleccionar uno o dos artículos científicos publicados en revistas científicas indexadas. Google Académico (Scholar) es un buscador muy utilizado como primera búsqueda, aporta una primera idea sobre qué hay publicado y qué revistas hay sobre el tema.\n",
    "- Crear un notebook de Python que servirá como entrega de la actividad (se entregará el fichero .ipynb).\n",
    "- Desarrollar un resumen y (a ser posible) un ejemplo de lo comentado en el mismo con código en Python.\n",
    "- Separar bien los apartados propuestos con celdas Markdown.\n",
    "- Mantener una estructura limpia, comentando código y secuenciando los apartados con el código correspondiente que resuelva la actividad.\n",
    "- Como criterio de evaluación se tendrá en cuenta el resultado, la consecución del mismo, estilo, comentarios y adecuación. Siempre será tenido en cuenta cualquier detalle técnico avanzado o no visto en clase relacionado con el tema (explicar el porqué y usabilidad).\n",
    "- No está permitido compartir los resultados ni el código en ninguno de los foros.\n",
    "- Revisar los temas 3 y 4 del manual, así como las sesiones sobre Numpy y Pandas para aplicar dichos contenidos.\n",
    "- La/as referencia/as deberán tener un formato adecuado. No importa el estilo, pero los más utilizados son: IEEE, Harvard, science,...\n",
    "- No hay límite de palabras, pero se valorará la capacidad de síntesis.\n",
    "- A parte de las referencias de artículos científicos, se puede aportar otras (no científicas) que complementen el tema."
   ]
  },
  {
   "cell_type": "markdown",
   "metadata": {},
   "source": [
    "### Ejemplo de estructura\n",
    "\n",
    "Esta actividad se trabaja sobre el entorno de Jupyter y en el resumen o exposición del artículo escogido se abordarán diferentes aspectos relacionados con la asignatura. En las referencias presentadas en este mismo enunciado de la actividad, se abortan aspectos importantes sobre Numpy o el uso de lenguajes de programación para Inteligencia Artificial.\n",
    "\n",
    "Un ejemplo de cómo puede plantearse el desarrollo de esta actividad sería hablar o resumir la/as referencias, explicar la importancia que tienen en la actualidad respecto al marco de conocimiento establecido. A continuación se expone un ejemplo con posibles cuestiones a abordar en la actividad.\n",
    "\n",
    "En el artículo 1 se presenta la estructura ndarray de NumPy, y se hace un estudio sobre su uso y cómo mejora el rendimiento de ciertas operaciones matemáticas para la computación numérica. Se hace una breve introducción al Broadcasting como técnica que usa NumPy para realizar operaciones aritméticas sobre dos o más arrays con distintas dimensiones:\n",
    "- Pregunta 1 - Ampliar dicha explicación, aportando posibles restricciones o limitaciones a dicho sistema y ejemplos propios de los casos de uso.\n",
    "\n",
    "También se introduce el trabajo con ficheros usando memoria mapeada:\n",
    "- Pregunta 2 - Verificar la eficacia y mejora posible de rendimiento del uso de memoria mapeada sobre ndarrays de tamaños grandes.\n",
    "\n",
    "En el artículo 2 el creador de pandas introduce dicha librería en comparación con las estructuras nativas de R.\n",
    "- Pregunta 3 - Desarrollar una opinión razonada del estado actual de las herramientas de análisis de datos estadísticos en contraposición a como se muestran en el artículo, R vs Python vs SQL vs Others..."
   ]
  },
  {
   "cell_type": "markdown",
   "metadata": {},
   "source": [
    "### Entrega:\n",
    "- Un solo documento en formato notebook: .ipynb\n",
    "- Las entregas sólo serán validas si se realizan a través del site de la asignatura: Actividades, Actividad WhitePapers."
   ]
  },
  {
   "cell_type": "markdown",
   "metadata": {
    "jp-MarkdownHeadingCollapsed": true
   },
   "source": [
    "### Evaluación\n",
    "- Esta actividad corresponde con el 10% de la nota final de la asignatura."
   ]
  },
  {
   "cell_type": "markdown",
   "metadata": {},
   "source": [
    "### Fecha Entrega\n",
    "- Convocatoria 1 - 22/06/2024, 08:00 AM CEST\n",
    "- Convocatoria 2 - 14/09/2024, 08:00 AM CEST"
   ]
  },
  {
   "cell_type": "markdown",
   "metadata": {},
   "source": [
    "## Rúbrica\n",
    "\n",
    "| Apartados | Suspenso <5 | Aprobado >=5 | Sobresaliente >=9 |\n",
    "| --------- | -------- | -------- | ------------- |\n",
    "| Estilo (20%) | Redacción incoherente gramaticalmente y/o con más de 3 faltas ortográficas. No se presenta ordenadamente el contenido ni se hace uso correcto del formato Jupyter notebook | Redacción coherente, estilo informal o alguna falta ortográfica. Se presenta el cuaderno de Jupyter con celdas adecuadas al uso de lo expuesto | Redacción impecable, con estructura definida, estilo formal y sin faltas ortográficas. Se trabaja con el notebook utilizando estilos, altenando código y comentarios adecuadamete. El estilo de la referencia es correcto e incluye (nombre de autor, año, revista, editorial,...) |\n",
    "| Contenidos (40%)  |No hay evidencia de reflexión sobre las referencias propuestas. No hay motivación o justificación de la selección de los artículos  |Se comenta, resume o sintetiza los artículos propuestos. Se justifica resumidamente el motivo de la elección de las referencias  |Se desarrolla, de forma sintetizada y correcta, el trabajo sobre los artículos propuestos. Se muestran ejemplos y descripciones de las cuestiones con código. La actividad tiene entre 500 y 1000 palabras sin contar código o figuras  \n",
    "| Referencias (40%) | Las referencias propuestas no tienen relación con el marco de conocimiento de la asignatura. Las referencias aportadas no se consideran de impacto o científicas al no estar en revistas indexadas | Se incluyen referencias complementarias que no son artículos científicos | La referencias son correctas y adecuadas al marco de conocimiento. Se aportan otras referencias complementarias | |"
   ]
  },
  {
   "cell_type": "code",
   "execution_count": null,
   "metadata": {},
   "outputs": [],
   "source": []
  }
 ],
 "metadata": {
  "kernelspec": {
   "display_name": "Python 3 (ipykernel)",
   "language": "python",
   "name": "python3"
  },
  "language_info": {
   "codemirror_mode": {
    "name": "ipython",
    "version": 3
   },
   "file_extension": ".py",
   "mimetype": "text/x-python",
   "name": "python",
   "nbconvert_exporter": "python",
   "pygments_lexer": "ipython3",
   "version": "3.11.7"
  }
 },
 "nbformat": 4,
 "nbformat_minor": 4
}
