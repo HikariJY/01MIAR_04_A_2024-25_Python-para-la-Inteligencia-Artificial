{
 "cells": [
  {
   "cell_type": "markdown",
   "id": "3ea670a3-7222-49c7-8f88-c4322aa242f1",
   "metadata": {},
   "source": [
    "# 01MIAR - Actividad Video Valencia Pollution\n",
    "\n",
    "Nombre: ***Josseph Yaakob Catagua Cobos***\n",
    "\n",
    "## NumPy y Pandas\n",
    "\n",
    "### Objetivos:\n",
    "- Aplicar diferentes técnicas de tratamiento de estructuras numéricas con Numpy y datos estructurados con Pandas.\n",
    "\n",
    "### Instrucciones:\n",
    "- Mantener una estructura limpia, comentando código y secuenciando los apartados con el código correspondiente que resuelva la actividad.\n",
    "- Como criterio de evaluación se tendrá en cuenta el resultado, la consecución del mismo, estilo, comentarios y adecuación. Siempre será tenido en cuenta cualquier detalle técnico avanzado o no visto en clase relacionado con el tema (explicar el porqué y usabilidad).\n",
    "- No está permitido compartir los resultados ni el código en ninguno de los foros.\n",
    "- Revisar los temas así como las sesiones sobre Numpy y Pandas para aplicar dichos contenidos.\n",
    "- Proponer las respuestas en las celdas a dicho efecto en cada punto, si se necesitan más celdas añadirlas en su sitio correspondiente\n",
    "- Mostrar de manera clara la respuesta a las preguntas, mediante código\n",
    "\n",
    "### Entrega:\n",
    "- Este mismo notebook con las respuetas\n",
    "\n",
    "### Evaluación\n",
    "- Esta actividad corresponde con el 10% de la nota final de la asignatura.\n",
    "\n",
    "### Fecha Realización\n",
    "- Convocatoria 1 - 31/05/2024 - 01/06/2024"
   ]
  },
  {
   "cell_type": "markdown",
   "id": "279c64e5-dc1d-4fc6-ab6a-3460302c59b8",
   "metadata": {},
   "source": [
    "#### Descripción\n",
    "El conjunto de datos \"valencia_pollution_dataset.csv\" (fichero disponible adjunto a la actividad) proviene de una descarga de datos del servicio web del ayuntamiento de la ciudad de Valencia de datos abiertos.\n",
    "\n",
    "Los datos recabados de este servicio web son de mediciones cada hora de una serie de estaciones de contaminación atmosférica.\n",
    "\n",
    "https://valencia.opendatasoft.com/explore/dataset/estacions-contaminacio-atmosferiques-estaciones-contaminacion-atmosfericas/information/\n",
    "\n",
    "Cada estación realiza una serie de mediciones acerca de la calidad del aire, y de ciertas sustancias que se consideran importantes para analizar la contaminación atmosférica en la ciudad.\n",
    "\n",
    "#### Columnas para trabajar:\n",
    "- objectid: id de la estación\n",
    "- nombre: nombre de la estación\n",
    "- dirección: dirección de la estación\n",
    "- tipozona: tipo de la zona, urbana o sub urbana\n",
    "- tipoemision: tráfico o fondo\n",
    "- so2: niveles de dióxido de azufre\n",
    "- no2: niveles de dióxido de nitrogeno\n",
    "- o3: niveles de ozono\n",
    "- co: niveles de monóxido de carbono\n",
    "- pm10: niveles de partículas en suspensión hasta 10um\n",
    "- pm25: niveles de partículas en suspensión hasta 2,5um\n",
    "- fecha_carga: timestamp de la actualización de los datos\n",
    "- calidad_ambiental: estimación de la calidad del aire"
   ]
  },
  {
   "cell_type": "code",
   "execution_count": 1,
   "id": "a282008c-b42d-449e-8c0f-1a5b5bfd2fee",
   "metadata": {},
   "outputs": [],
   "source": [
    "import numpy as np\n",
    "import pandas as pd\n",
    "import matplotlib.pyplot as plt"
   ]
  },
  {
   "cell_type": "markdown",
   "id": "1deb63f5-3719-429e-8237-4a2b185062b4",
   "metadata": {},
   "source": [
    "## 01\n",
    "- Carga de datos de csv (valencia_pollution_dataset.csv) en un DataFrame"
   ]
  },
  {
   "cell_type": "code",
   "execution_count": 2,
   "id": "19167463-06b0-45e7-a634-ce7067e083c5",
   "metadata": {},
   "outputs": [
    {
     "data": {
      "text/html": [
       "<div>\n",
       "<style scoped>\n",
       "    .dataframe tbody tr th:only-of-type {\n",
       "        vertical-align: middle;\n",
       "    }\n",
       "\n",
       "    .dataframe tbody tr th {\n",
       "        vertical-align: top;\n",
       "    }\n",
       "\n",
       "    .dataframe thead th {\n",
       "        text-align: right;\n",
       "    }\n",
       "</style>\n",
       "<table border=\"1\" class=\"dataframe\">\n",
       "  <thead>\n",
       "    <tr style=\"text-align: right;\">\n",
       "      <th></th>\n",
       "      <th>objectid</th>\n",
       "      <th>nombre</th>\n",
       "      <th>direccion</th>\n",
       "      <th>tipozona</th>\n",
       "      <th>tipoemision</th>\n",
       "      <th>so2</th>\n",
       "      <th>no2</th>\n",
       "      <th>o3</th>\n",
       "      <th>co</th>\n",
       "      <th>pm10</th>\n",
       "      <th>pm25</th>\n",
       "      <th>fecha_carga</th>\n",
       "      <th>calidad_ambiental</th>\n",
       "    </tr>\n",
       "  </thead>\n",
       "  <tbody>\n",
       "    <tr>\n",
       "      <th>0</th>\n",
       "      <td>26</td>\n",
       "      <td>Pista de Silla</td>\n",
       "      <td>C/ Filipinas, s/n</td>\n",
       "      <td>Urbana</td>\n",
       "      <td>Tráfico</td>\n",
       "      <td>0.0</td>\n",
       "      <td>10</td>\n",
       "      <td>71.0</td>\n",
       "      <td>0.7</td>\n",
       "      <td>8.0</td>\n",
       "      <td>3.0</td>\n",
       "      <td>2024-05-24T20:20:06+00:00</td>\n",
       "      <td>Razonablemente Buena</td>\n",
       "    </tr>\n",
       "    <tr>\n",
       "      <th>1</th>\n",
       "      <td>28</td>\n",
       "      <td>Viveros</td>\n",
       "      <td>Jardines de Viveros</td>\n",
       "      <td>Urbana</td>\n",
       "      <td>Fondo</td>\n",
       "      <td>0.0</td>\n",
       "      <td>5</td>\n",
       "      <td>88.0</td>\n",
       "      <td>NaN</td>\n",
       "      <td>NaN</td>\n",
       "      <td>NaN</td>\n",
       "      <td>2024-05-24T20:20:08+00:00</td>\n",
       "      <td>Razonablemente Buena</td>\n",
       "    </tr>\n",
       "    <tr>\n",
       "      <th>2</th>\n",
       "      <td>431</td>\n",
       "      <td>Olivereta</td>\n",
       "      <td>Av. del Cid amb Av. de les Tres Creus</td>\n",
       "      <td>Urbana</td>\n",
       "      <td>Tráfico</td>\n",
       "      <td>NaN</td>\n",
       "      <td>24</td>\n",
       "      <td>NaN</td>\n",
       "      <td>NaN</td>\n",
       "      <td>20.0</td>\n",
       "      <td>11.0</td>\n",
       "      <td>2024-05-24T20:20:11+00:00</td>\n",
       "      <td>Razonablemente Buena</td>\n",
       "    </tr>\n",
       "    <tr>\n",
       "      <th>3</th>\n",
       "      <td>432</td>\n",
       "      <td>Patraix</td>\n",
       "      <td>Archiduque Carlos, 84ac</td>\n",
       "      <td>Urbana</td>\n",
       "      <td>Tráfico</td>\n",
       "      <td>NaN</td>\n",
       "      <td>15</td>\n",
       "      <td>NaN</td>\n",
       "      <td>NaN</td>\n",
       "      <td>20.0</td>\n",
       "      <td>11.0</td>\n",
       "      <td>2024-05-24T20:20:12+00:00</td>\n",
       "      <td>Razonablemente Buena</td>\n",
       "    </tr>\n",
       "    <tr>\n",
       "      <th>4</th>\n",
       "      <td>23</td>\n",
       "      <td>Francia</td>\n",
       "      <td>Avda. de Francia, 60</td>\n",
       "      <td>Urbana</td>\n",
       "      <td>Tráfico</td>\n",
       "      <td>1.0</td>\n",
       "      <td>3</td>\n",
       "      <td>82.0</td>\n",
       "      <td>0.1</td>\n",
       "      <td>9.0</td>\n",
       "      <td>6.0</td>\n",
       "      <td>2024-05-24T20:20:04+00:00</td>\n",
       "      <td>Razonablemente Buena</td>\n",
       "    </tr>\n",
       "    <tr>\n",
       "      <th>...</th>\n",
       "      <td>...</td>\n",
       "      <td>...</td>\n",
       "      <td>...</td>\n",
       "      <td>...</td>\n",
       "      <td>...</td>\n",
       "      <td>...</td>\n",
       "      <td>...</td>\n",
       "      <td>...</td>\n",
       "      <td>...</td>\n",
       "      <td>...</td>\n",
       "      <td>...</td>\n",
       "      <td>...</td>\n",
       "      <td>...</td>\n",
       "    </tr>\n",
       "    <tr>\n",
       "      <th>391</th>\n",
       "      <td>26</td>\n",
       "      <td>Pista de Silla</td>\n",
       "      <td>C/ Filipinas, s/n</td>\n",
       "      <td>Urbana</td>\n",
       "      <td>Tráfico</td>\n",
       "      <td>0.0</td>\n",
       "      <td>7</td>\n",
       "      <td>45.0</td>\n",
       "      <td>0.7</td>\n",
       "      <td>7.0</td>\n",
       "      <td>3.0</td>\n",
       "      <td>2024-05-26T10:20:07+00:00</td>\n",
       "      <td>Buena</td>\n",
       "    </tr>\n",
       "    <tr>\n",
       "      <th>392</th>\n",
       "      <td>22</td>\n",
       "      <td>Centro</td>\n",
       "      <td>Plaza Ayuntamiento</td>\n",
       "      <td>Urbana</td>\n",
       "      <td>Tráfico</td>\n",
       "      <td>NaN</td>\n",
       "      <td>11</td>\n",
       "      <td>NaN</td>\n",
       "      <td>NaN</td>\n",
       "      <td>15.0</td>\n",
       "      <td>8.0</td>\n",
       "      <td>2024-05-26T10:20:10+00:00</td>\n",
       "      <td>Buena</td>\n",
       "    </tr>\n",
       "    <tr>\n",
       "      <th>393</th>\n",
       "      <td>430</td>\n",
       "      <td>Dr. Lluch</td>\n",
       "      <td>Calle Dr. Lluch, 48</td>\n",
       "      <td>Urbana</td>\n",
       "      <td>Tráfico</td>\n",
       "      <td>NaN</td>\n",
       "      <td>6</td>\n",
       "      <td>NaN</td>\n",
       "      <td>NaN</td>\n",
       "      <td>24.0</td>\n",
       "      <td>10.0</td>\n",
       "      <td>2024-05-26T10:20:11+00:00</td>\n",
       "      <td>Razonablemente Buena</td>\n",
       "    </tr>\n",
       "    <tr>\n",
       "      <th>394</th>\n",
       "      <td>431</td>\n",
       "      <td>Olivereta</td>\n",
       "      <td>Av. del Cid amb Av. de les Tres Creus</td>\n",
       "      <td>Urbana</td>\n",
       "      <td>Tráfico</td>\n",
       "      <td>NaN</td>\n",
       "      <td>15</td>\n",
       "      <td>NaN</td>\n",
       "      <td>NaN</td>\n",
       "      <td>20.0</td>\n",
       "      <td>11.0</td>\n",
       "      <td>2024-05-26T10:20:12+00:00</td>\n",
       "      <td>Razonablemente Buena</td>\n",
       "    </tr>\n",
       "    <tr>\n",
       "      <th>395</th>\n",
       "      <td>25</td>\n",
       "      <td>Molí del Sol</td>\n",
       "      <td>Avda. Pío Baroja - Avda. General Avilés</td>\n",
       "      <td>Suburbana</td>\n",
       "      <td>Tráfico</td>\n",
       "      <td>3.0</td>\n",
       "      <td>5</td>\n",
       "      <td>36.0</td>\n",
       "      <td>0.3</td>\n",
       "      <td>7.0</td>\n",
       "      <td>6.0</td>\n",
       "      <td>2024-05-26T10:20:07+00:00</td>\n",
       "      <td>Buena</td>\n",
       "    </tr>\n",
       "  </tbody>\n",
       "</table>\n",
       "<p>396 rows × 13 columns</p>\n",
       "</div>"
      ],
      "text/plain": [
       "     objectid          nombre                                direccion  \\\n",
       "0          26  Pista de Silla                        C/ Filipinas, s/n   \n",
       "1          28         Viveros                      Jardines de Viveros   \n",
       "2         431       Olivereta    Av. del Cid amb Av. de les Tres Creus   \n",
       "3         432         Patraix                  Archiduque Carlos, 84ac   \n",
       "4          23         Francia                     Avda. de Francia, 60   \n",
       "..        ...             ...                                      ...   \n",
       "391        26  Pista de Silla                        C/ Filipinas, s/n   \n",
       "392        22          Centro                       Plaza Ayuntamiento   \n",
       "393       430       Dr. Lluch                      Calle Dr. Lluch, 48   \n",
       "394       431       Olivereta    Av. del Cid amb Av. de les Tres Creus   \n",
       "395        25    Molí del Sol  Avda. Pío Baroja - Avda. General Avilés   \n",
       "\n",
       "      tipozona tipoemision  so2  no2    o3   co  pm10  pm25  \\\n",
       "0       Urbana     Tráfico  0.0   10  71.0  0.7   8.0   3.0   \n",
       "1       Urbana       Fondo  0.0    5  88.0  NaN   NaN   NaN   \n",
       "2       Urbana     Tráfico  NaN   24   NaN  NaN  20.0  11.0   \n",
       "3       Urbana     Tráfico  NaN   15   NaN  NaN  20.0  11.0   \n",
       "4       Urbana     Tráfico  1.0    3  82.0  0.1   9.0   6.0   \n",
       "..         ...         ...  ...  ...   ...  ...   ...   ...   \n",
       "391     Urbana     Tráfico  0.0    7  45.0  0.7   7.0   3.0   \n",
       "392     Urbana     Tráfico  NaN   11   NaN  NaN  15.0   8.0   \n",
       "393     Urbana     Tráfico  NaN    6   NaN  NaN  24.0  10.0   \n",
       "394     Urbana     Tráfico  NaN   15   NaN  NaN  20.0  11.0   \n",
       "395  Suburbana     Tráfico  3.0    5  36.0  0.3   7.0   6.0   \n",
       "\n",
       "                   fecha_carga     calidad_ambiental  \n",
       "0    2024-05-24T20:20:06+00:00  Razonablemente Buena  \n",
       "1    2024-05-24T20:20:08+00:00  Razonablemente Buena  \n",
       "2    2024-05-24T20:20:11+00:00  Razonablemente Buena  \n",
       "3    2024-05-24T20:20:12+00:00  Razonablemente Buena  \n",
       "4    2024-05-24T20:20:04+00:00  Razonablemente Buena  \n",
       "..                         ...                   ...  \n",
       "391  2024-05-26T10:20:07+00:00                 Buena  \n",
       "392  2024-05-26T10:20:10+00:00                 Buena  \n",
       "393  2024-05-26T10:20:11+00:00  Razonablemente Buena  \n",
       "394  2024-05-26T10:20:12+00:00  Razonablemente Buena  \n",
       "395  2024-05-26T10:20:07+00:00                 Buena  \n",
       "\n",
       "[396 rows x 13 columns]"
      ]
     },
     "metadata": {},
     "output_type": "display_data"
    }
   ],
   "source": [
    "url_csv = ['valencia_pollution_dataset.csv']\n",
    "\n",
    "df = pd.read_csv(*url_csv)\n",
    "\n",
    "display(df)"
   ]
  },
  {
   "cell_type": "markdown",
   "id": "eff54d67-f2f0-4dec-b4d3-6f919020680d",
   "metadata": {},
   "source": [
    "## 02\n",
    "- ¿Cuál es el rango temporal del dataset?\n",
    "- Obtención del número de estaciones que tienen un sensor para medir monóxido de carbono"
   ]
  },
  {
   "cell_type": "code",
   "execution_count": 3,
   "id": "86d88feb-2321-4916-8237-620051b95862",
   "metadata": {},
   "outputs": [
    {
     "name": "stdout",
     "output_type": "stream",
     "text": [
      "El rango temporal del dataset está comprendida entre: [2024-05-24 20:20:04+00:00, 2024-05-26 10:20:13+00:00].\n"
     ]
    }
   ],
   "source": [
    "df['fecha_carga'] = pd.to_datetime(df['fecha_carga'])\n",
    "df_time = df['fecha_carga']\n",
    "print(f'El rango temporal del dataset está comprendida entre: [{df_time.min()}, {df_time.max()}].')"
   ]
  },
  {
   "cell_type": "code",
   "execution_count": 4,
   "id": "99154885-e100-4fec-b957-88ada8808a91",
   "metadata": {},
   "outputs": [
    {
     "name": "stdout",
     "output_type": "stream",
     "text": [
      "El numero de estaciones que tienen un sensor para medir monóxido de carbono son: 3.\n",
      "\n"
     ]
    },
    {
     "data": {
      "text/plain": [
       "{'Francia', 'Molí del Sol', 'Pista de Silla'}"
      ]
     },
     "metadata": {},
     "output_type": "display_data"
    }
   ],
   "source": [
    "df_with_co = df.dropna(subset=['co'])\n",
    "res = df_with_co['objectid'].nunique()\n",
    "print(f'El numero de estaciones que tienen un sensor para medir monóxido de carbono son: {res}.\\n')\n",
    "display(set(df_with_co['nombre']))"
   ]
  },
  {
   "cell_type": "markdown",
   "id": "c0463a8c-5ab8-4fd0-a7a4-564159a34847",
   "metadata": {},
   "source": [
    "## 03\n",
    "\n",
    "- Número de estación con la media más alta de mediciones de monóxido de carbono"
   ]
  },
  {
   "cell_type": "code",
   "execution_count": 5,
   "id": "0753dc33-67bf-448b-8c0d-17e0f0d29121",
   "metadata": {},
   "outputs": [
    {
     "name": "stdout",
     "output_type": "stream",
     "text": [
      "El número de estación con una media de co 0.7 es el objectid 26 con nombre Pista de Silla.\n",
      "\n"
     ]
    },
    {
     "data": {
      "text/plain": [
       "objectid\n",
       "23    0.1\n",
       "25    0.3\n",
       "26    0.7\n",
       "Name: co, dtype: float64"
      ]
     },
     "metadata": {},
     "output_type": "display_data"
    }
   ],
   "source": [
    "media_4_estation = df_with_co.groupby('objectid')['co'].mean()\n",
    "max_station_name = df_with_co[df_with_co['objectid'] == media_4_estation.idxmax()]['nombre'].iloc[0]\n",
    "print(f'El número de estación con una media de co {media_4_estation.max()} es el objectid {media_4_estation.idxmax()} con nombre {max_station_name}.\\n')\n",
    "display(media_4_estation)"
   ]
  },
  {
   "cell_type": "markdown",
   "id": "0495c144-f4bc-44eb-a5f7-1e8b9769d008",
   "metadata": {},
   "source": [
    "## 04\n",
    "Realizar el histograma de dióxido de nitrógeno de la estación del punto anterior"
   ]
  },
  {
   "cell_type": "code",
   "execution_count": 7,
   "id": "a1427e23-250e-449b-b681-ea6362cba3d5",
   "metadata": {},
   "outputs": [
    {
     "data": {
      "image/png": "[encoded data removed]",
      "text/plain": [
       "<Figure size 640x480 with 1 Axes>"
      ]
     },
     "metadata": {},
     "output_type": "display_data"
    }
   ],
   "source": [
    "df_station = df[df['objectid'] == media_4_estation.idxmax()]\n",
    "df_with_no2 = df_station.dropna(subset=['no2'])\n",
    "\n",
    "fig, axes = plt.subplots(1, 1)\n",
    "df_with_no2['no2'].hist(bins=df_with_no2['no2'].max(), ax=axes, rwidth=0.75, color='green', edgecolor='black')\n",
    "\n",
    "plt.title(f'Histograma de NO2 en la Estación {max_station_name}')\n",
    "axes.set_ylabel('Frecuencia')\n",
    "axes.set_xlabel('Dióxido de Nitrógeno')\n",
    "plt.grid(axis='x', alpha=0.5)\n",
    "\n",
    "plt.show()"
   ]
  },
  {
   "cell_type": "markdown",
   "id": "4c085607-b754-45d2-a7da-4c54dc842db0",
   "metadata": {},
   "source": [
    "## 05\n",
    "Realizar gráfica con  la línea temporal de las mediciones de ozono de la estación del punto anterior. Pista, la columna 'fecha_carga' habría que cambiarla de tipo."
   ]
  },
  {
   "cell_type": "code",
   "execution_count": 8,
   "id": "1d7f47df-012c-402f-aa67-9c920a1b4bd6",
   "metadata": {},
   "outputs": [
    {
     "data": {
      "image/png": "[encoded data removed]",
      "text/plain": [
       "<Figure size 640x480 with 1 Axes>"
      ]
     },
     "metadata": {},
     "output_type": "display_data"
    }
   ],
   "source": [
    "df_with_o3 = df_station.dropna(subset=['o3'])\n",
    "\n",
    "o3_time = df_with_o3['fecha_carga'].dt.strftime('%y-%m-%d %H:%M:%S').tolist()\n",
    "o3 = [y for y in df_with_o3['o3']]\n",
    "\n",
    "fig, axes = plt.subplots(1, 1)\n",
    "axes.plot(o3_time, o3)\n",
    "\n",
    "plt.title(f'Linea de Tiempo de O3 en la Estación {max_station_name}')\n",
    "axes.set_ylabel('O3')\n",
    "axes.set_xlabel('Tiempo de Carga')\n",
    "plt.grid(alpha=0.5)\n",
    "plt.xticks(rotation=90)\n",
    "\n",
    "plt.show()"
   ]
  },
  {
   "cell_type": "code",
   "execution_count": null,
   "id": "bafe43ba-6092-474d-a074-7ce2114ffffb",
   "metadata": {},
   "outputs": [],
   "source": []
  }
 ],
 "metadata": {
  "kernelspec": {
   "display_name": "Python 3 (ipykernel)",
   "language": "python",
   "name": "python3"
  },
  "language_info": {
   "codemirror_mode": {
    "name": "ipython",
    "version": 3
   },
   "file_extension": ".py",
   "mimetype": "text/x-python",
   "name": "python",
   "nbconvert_exporter": "python",
   "pygments_lexer": "ipython3",
   "version": "3.11.7"
  }
 },
 "nbformat": 4,
 "nbformat_minor": 5
}
